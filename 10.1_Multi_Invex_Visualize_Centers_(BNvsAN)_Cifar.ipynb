{
 "cells": [
  {
   "cell_type": "code",
   "execution_count": 1,
   "metadata": {},
   "outputs": [],
   "source": [
    "import torch\n",
    "import torch.nn as nn\n",
    "from torchvision import datasets, transforms\n",
    "\n",
    "import matplotlib\n",
    "import matplotlib.pyplot as plt\n",
    "import numpy as np\n",
    "\n",
    "import os, sys, pathlib, random, time, pickle, copy\n",
    "from tqdm import tqdm"
   ]
  },
  {
   "cell_type": "code",
   "execution_count": 2,
   "metadata": {},
   "outputs": [],
   "source": [
    "device = torch.device(\"cuda:0\")\n",
    "# device = torch.device(\"cpu\")"
   ]
  },
  {
   "cell_type": "code",
   "execution_count": 3,
   "metadata": {},
   "outputs": [],
   "source": [
    "import torch.optim as optim\n",
    "from torch.utils import data"
   ]
  },
  {
   "cell_type": "code",
   "execution_count": 4,
   "metadata": {},
   "outputs": [],
   "source": [
    "import nflib\n",
    "from nflib.flows import SequentialFlow, ActNorm, ActNorm2D, BatchNorm1DFlow, BatchNorm2DFlow\n",
    "import nflib.coupling_flows as icf\n",
    "import nflib.res_flow as irf"
   ]
  },
  {
   "cell_type": "code",
   "execution_count": 5,
   "metadata": {},
   "outputs": [],
   "source": [
    "seed = 123\n",
    "\n",
    "np.random.seed(seed)\n",
    "torch.manual_seed(seed)\n",
    "torch.cuda.manual_seed(seed)"
   ]
  },
  {
   "cell_type": "markdown",
   "metadata": {},
   "source": [
    "### Datasets"
   ]
  },
  {
   "cell_type": "code",
   "execution_count": 6,
   "metadata": {},
   "outputs": [
    {
     "name": "stdout",
     "output_type": "stream",
     "text": [
      "Files already downloaded and verified\n",
      "Files already downloaded and verified\n"
     ]
    }
   ],
   "source": [
    "cifar_train = transforms.Compose([\n",
    "    transforms.RandomCrop(size=32, padding=4),\n",
    "    transforms.RandomHorizontalFlip(),\n",
    "    transforms.ToTensor(),\n",
    "    transforms.Normalize(\n",
    "        mean=[0.4914, 0.4822, 0.4465], # mean=[0.5071, 0.4865, 0.4409] for cifar100\n",
    "        std=[0.2023, 0.1994, 0.2010], # std=[0.2009, 0.1984, 0.2023] for cifar100\n",
    "    ),\n",
    "])\n",
    "\n",
    "cifar_test = transforms.Compose([\n",
    "    transforms.ToTensor(),\n",
    "    transforms.Normalize(\n",
    "        mean=[0.4914, 0.4822, 0.4465], # mean=[0.5071, 0.4865, 0.4409] for cifar100\n",
    "        std=[0.2023, 0.1994, 0.2010], # std=[0.2009, 0.1984, 0.2023] for cifar100\n",
    "    ),\n",
    "])\n",
    "\n",
    "train_dataset = datasets.CIFAR10(root=\"./data/\", train=True, download=True, transform=cifar_train)\n",
    "test_dataset = datasets.CIFAR10(root=\"./data/\", train=False, download=True, transform=cifar_test)"
   ]
  },
  {
   "cell_type": "code",
   "execution_count": 7,
   "metadata": {},
   "outputs": [],
   "source": [
    "# cifar_train = transforms.Compose([\n",
    "#     transforms.RandomCrop(size=32, padding=4),\n",
    "#     transforms.RandomHorizontalFlip(),\n",
    "#     transforms.ToTensor(),\n",
    "#     transforms.Normalize(\n",
    "#         mean=[0.5071, 0.4865, 0.4409],\n",
    "#         std=[0.2009, 0.1984, 0.2023],\n",
    "#     ),\n",
    "# ])\n",
    "\n",
    "# cifar_test = transforms.Compose([\n",
    "#     transforms.ToTensor(),\n",
    "#     transforms.Normalize(\n",
    "#         mean=[0.5071, 0.4865, 0.4409],\n",
    "#         std=[0.2009, 0.1984, 0.2023],\n",
    "#     ),\n",
    "# ])\n",
    "\n",
    "# train_dataset = datasets.CIFAR100(root=\"./data\", train=True, download=True, transform=cifar_train)\n",
    "# test_dataset = datasets.CIFAR100(root=\"./data\", train=False, download=True, transform=cifar_test)"
   ]
  },
  {
   "cell_type": "code",
   "execution_count": 8,
   "metadata": {},
   "outputs": [],
   "source": [
    "train_loader = torch.utils.data.DataLoader(dataset=train_dataset, batch_size=128, shuffle=True, num_workers=4)\n",
    "test_loader = torch.utils.data.DataLoader(dataset=test_dataset, batch_size=128, shuffle=False, num_workers=4)"
   ]
  },
  {
   "cell_type": "code",
   "execution_count": 9,
   "metadata": {},
   "outputs": [],
   "source": [
    "for xx, yy in train_loader:\n",
    "    break"
   ]
  },
  {
   "cell_type": "code",
   "execution_count": 10,
   "metadata": {},
   "outputs": [
    {
     "data": {
      "text/plain": [
       "torch.Size([128, 3, 32, 32])"
      ]
     },
     "execution_count": 10,
     "metadata": {},
     "output_type": "execute_result"
    }
   ],
   "source": [
    "xx.shape"
   ]
  },
  {
   "cell_type": "markdown",
   "metadata": {},
   "source": [
    "### Model"
   ]
  },
  {
   "cell_type": "code",
   "execution_count": 11,
   "metadata": {},
   "outputs": [],
   "source": [
    "actf = irf.Swish\n",
    "# Norm1D = BatchNorm1DFlow\n",
    "# Norm2D = BatchNorm2DFlow\n",
    "Norm1D = ActNorm\n",
    "Norm2D = ActNorm2D\n",
    "flows = [\n",
    "    Norm2D(3),\n",
    "    irf.ConvResidualFlow([3, 32, 32], [32, 32], kernels=5, activation=actf),\n",
    "    irf.InvertiblePooling(2),\n",
    "    Norm2D(12),\n",
    "    irf.ConvResidualFlow([12, 16, 16], [64, 64], kernels=5, activation=actf),\n",
    "    Norm2D(12),\n",
    "    irf.ConvResidualFlow([12, 16, 16], [64, 64], kernels=5, activation=actf),\n",
    "    irf.InvertiblePooling(2),\n",
    "    Norm2D(48),\n",
    "    irf.ConvResidualFlow([48, 8, 8], [128, 128], kernels=5, activation=actf),\n",
    "    Norm2D(48),\n",
    "    irf.ConvResidualFlow([48, 8, 8], [128, 128], kernels=5, activation=actf),\n",
    "    irf.InvertiblePooling(2),\n",
    "    Norm2D(192),\n",
    "    irf.ConvResidualFlow([192, 4, 4], [256, 256], kernels=5, activation=actf),\n",
    "    Norm2D(192),\n",
    "    irf.ConvResidualFlow([192, 4, 4], [256, 256], kernels=5, activation=actf),\n",
    "    Norm2D(192),\n",
    "    irf.Flatten(img_size=[192, 4, 4]),\n",
    "    Norm1D(3072),\n",
    "#     nn.Linear(3072, 2),\n",
    "#     Norm1D(2),\n",
    "        ]\n",
    "\n",
    "# backbone = SequentialFlow(flows)\n",
    "backbone = nn.Sequential(*flows)"
   ]
  },
  {
   "cell_type": "code",
   "execution_count": 12,
   "metadata": {},
   "outputs": [
    {
     "data": {
      "text/plain": [
       "Sequential(\n",
       "  (0): ActNorm2D()\n",
       "  (1): ConvResidualFlow(\n",
       "    (resblock): ModuleList(\n",
       "      (0): Conv2d(3, 32, kernel_size=(5, 5), stride=(1, 1), padding=(2, 2))\n",
       "      (1): Swish()\n",
       "      (2): Conv2d(32, 32, kernel_size=(5, 5), stride=(1, 1), padding=(2, 2))\n",
       "      (3): Swish()\n",
       "      (4): Conv2d(32, 3, kernel_size=(5, 5), stride=(1, 1), padding=(2, 2))\n",
       "    )\n",
       "  )\n",
       "  (2): InvertiblePooling()\n",
       "  (3): ActNorm2D()\n",
       "  (4): ConvResidualFlow(\n",
       "    (resblock): ModuleList(\n",
       "      (0): Conv2d(12, 64, kernel_size=(5, 5), stride=(1, 1), padding=(2, 2))\n",
       "      (1): Swish()\n",
       "      (2): Conv2d(64, 64, kernel_size=(5, 5), stride=(1, 1), padding=(2, 2))\n",
       "      (3): Swish()\n",
       "      (4): Conv2d(64, 12, kernel_size=(5, 5), stride=(1, 1), padding=(2, 2))\n",
       "    )\n",
       "  )\n",
       "  (5): ActNorm2D()\n",
       "  (6): ConvResidualFlow(\n",
       "    (resblock): ModuleList(\n",
       "      (0): Conv2d(12, 64, kernel_size=(5, 5), stride=(1, 1), padding=(2, 2))\n",
       "      (1): Swish()\n",
       "      (2): Conv2d(64, 64, kernel_size=(5, 5), stride=(1, 1), padding=(2, 2))\n",
       "      (3): Swish()\n",
       "      (4): Conv2d(64, 12, kernel_size=(5, 5), stride=(1, 1), padding=(2, 2))\n",
       "    )\n",
       "  )\n",
       "  (7): InvertiblePooling()\n",
       "  (8): ActNorm2D()\n",
       "  (9): ConvResidualFlow(\n",
       "    (resblock): ModuleList(\n",
       "      (0): Conv2d(48, 128, kernel_size=(5, 5), stride=(1, 1), padding=(2, 2))\n",
       "      (1): Swish()\n",
       "      (2): Conv2d(128, 128, kernel_size=(5, 5), stride=(1, 1), padding=(2, 2))\n",
       "      (3): Swish()\n",
       "      (4): Conv2d(128, 48, kernel_size=(5, 5), stride=(1, 1), padding=(2, 2))\n",
       "    )\n",
       "  )\n",
       "  (10): ActNorm2D()\n",
       "  (11): ConvResidualFlow(\n",
       "    (resblock): ModuleList(\n",
       "      (0): Conv2d(48, 128, kernel_size=(5, 5), stride=(1, 1), padding=(2, 2))\n",
       "      (1): Swish()\n",
       "      (2): Conv2d(128, 128, kernel_size=(5, 5), stride=(1, 1), padding=(2, 2))\n",
       "      (3): Swish()\n",
       "      (4): Conv2d(128, 48, kernel_size=(5, 5), stride=(1, 1), padding=(2, 2))\n",
       "    )\n",
       "  )\n",
       "  (12): InvertiblePooling()\n",
       "  (13): ActNorm2D()\n",
       "  (14): ConvResidualFlow(\n",
       "    (resblock): ModuleList(\n",
       "      (0): Conv2d(192, 256, kernel_size=(5, 5), stride=(1, 1), padding=(2, 2))\n",
       "      (1): Swish()\n",
       "      (2): Conv2d(256, 256, kernel_size=(5, 5), stride=(1, 1), padding=(2, 2))\n",
       "      (3): Swish()\n",
       "      (4): Conv2d(256, 192, kernel_size=(5, 5), stride=(1, 1), padding=(2, 2))\n",
       "    )\n",
       "  )\n",
       "  (15): ActNorm2D()\n",
       "  (16): ConvResidualFlow(\n",
       "    (resblock): ModuleList(\n",
       "      (0): Conv2d(192, 256, kernel_size=(5, 5), stride=(1, 1), padding=(2, 2))\n",
       "      (1): Swish()\n",
       "      (2): Conv2d(256, 256, kernel_size=(5, 5), stride=(1, 1), padding=(2, 2))\n",
       "      (3): Swish()\n",
       "      (4): Conv2d(256, 192, kernel_size=(5, 5), stride=(1, 1), padding=(2, 2))\n",
       "    )\n",
       "  )\n",
       "  (17): ActNorm2D()\n",
       "  (18): Flatten()\n",
       "  (19): ActNorm()\n",
       ")"
      ]
     },
     "execution_count": 12,
     "metadata": {},
     "output_type": "execute_result"
    }
   ],
   "source": [
    "backbone.to(device)"
   ]
  },
  {
   "cell_type": "code",
   "execution_count": 13,
   "metadata": {},
   "outputs": [
    {
     "data": {
      "text/plain": [
       "(torch.Size([128, 3072]), 3072)"
      ]
     },
     "execution_count": 13,
     "metadata": {},
     "output_type": "execute_result"
    }
   ],
   "source": [
    "backbone(xx.to(device)).shape, 32*32*3"
   ]
  },
  {
   "cell_type": "code",
   "execution_count": 14,
   "metadata": {},
   "outputs": [],
   "source": [
    "def get_children(module):\n",
    "    child = list(module.children())\n",
    "    if len(child) == 0:\n",
    "        return [module]\n",
    "    children = []\n",
    "    for ch in child:\n",
    "        grand_ch = get_children(ch)\n",
    "        children+=grand_ch\n",
    "    return children\n",
    "\n",
    "def remove_spectral_norm(model):\n",
    "    for child in get_children(model):\n",
    "        if hasattr(child, 'weight'):\n",
    "            print(\"Yes\", child)\n",
    "            try:\n",
    "                irf.remove_spectral_norm_conv(child)\n",
    "                print(\"Success : irf conv\")\n",
    "            except Exception as e:\n",
    "#                     print(e)\n",
    "                print(\"Failed : irf conv\")\n",
    "\n",
    "            try:\n",
    "                irf.remove_spectral_norm(child)\n",
    "                print(\"Success : irf lin\")\n",
    "            except Exception as e:\n",
    "#                     print(e)\n",
    "                print(\"Failed : irf lin\")\n",
    "\n",
    "            try:\n",
    "                nn.utils.remove_spectral_norm(child)\n",
    "                print(\"Success : nn\")\n",
    "            except Exception as e:\n",
    "#                     print(e)\n",
    "                print(\"Failed : nn\")\n",
    "    return"
   ]
  },
  {
   "cell_type": "code",
   "execution_count": 15,
   "metadata": {},
   "outputs": [],
   "source": [
    "# remove_spectral_norm(backbone)"
   ]
  },
  {
   "cell_type": "code",
   "execution_count": 16,
   "metadata": {},
   "outputs": [
    {
     "name": "stdout",
     "output_type": "stream",
     "text": [
      "number of params:  9947519\n"
     ]
    }
   ],
   "source": [
    "print(\"number of params: \", sum(p.numel() for p in backbone.parameters()))"
   ]
  },
  {
   "cell_type": "code",
   "execution_count": 17,
   "metadata": {},
   "outputs": [
    {
     "name": "stdout",
     "output_type": "stream",
     "text": [
      "torch.Size([128, 3, 32, 32]) torch.Size([128, 3072])\n"
     ]
    }
   ],
   "source": [
    "for xx, yy in train_loader:\n",
    "    tt = backbone(xx.to(device))\n",
    "    print(xx.shape, tt.shape)\n",
    "    break"
   ]
  },
  {
   "cell_type": "code",
   "execution_count": 18,
   "metadata": {},
   "outputs": [],
   "source": [
    "class ConnectedClassifier_Linear(nn.Module):\n",
    "\n",
    "    def __init__(self,input_dim, num_sets, output_dim, inv_temp=1):\n",
    "        super().__init__()\n",
    "        self.input_dim = input_dim\n",
    "        self.output_dim = output_dim\n",
    "        self.num_sets = num_sets\n",
    "        self.inv_temp = nn.Parameter(torch.ones(1)*inv_temp)\n",
    "\n",
    "        self.linear = nn.Linear(input_dim, num_sets)\n",
    "\n",
    "        init_val = torch.randn(num_sets, output_dim)\n",
    "        for ns in range(num_sets):\n",
    "            init_val[ns, ns%output_dim] = 5\n",
    "        self.cls_weight = nn.Parameter(init_val)\n",
    "\n",
    "        self.cls_confidence = None\n",
    "\n",
    "\n",
    "    def forward(self, x, hard=False):\n",
    "        x = self.linear(x)*torch.exp(self.inv_temp)\n",
    "        if hard:\n",
    "            x = torch.softmax(x*1e5, dim=1)\n",
    "        else:\n",
    "            x = torch.softmax(x, dim=1)\n",
    "#             x = torch.softmax(x*self.inv_temp, dim=1)\n",
    "        self.cls_confidence = x\n",
    "#         c = torch.softmax(self.cls_weight, dim=1)\n",
    "        c = self.cls_weight\n",
    "        return x@c ## since both are normalized, it is also normalized"
   ]
  },
  {
   "cell_type": "code",
   "execution_count": 19,
   "metadata": {},
   "outputs": [],
   "source": [
    "class ConnectedClassifier_Distance(nn.Module):\n",
    "\n",
    "    def __init__(self,input_dim, num_sets, output_dim, inv_temp=1):\n",
    "        super().__init__()\n",
    "        self.input_dim = input_dim\n",
    "        self.output_dim = output_dim\n",
    "        self.num_sets = num_sets\n",
    "        self.inv_temp = nn.Parameter(torch.ones(1)*inv_temp)\n",
    "\n",
    "        self.centers = nn.Parameter(torch.rand(num_sets, input_dim)*2-1)\n",
    "        self.bias = nn.Parameter(torch.zeros(1, num_sets))\n",
    "#         self.cls_weight = nn.Parameter(torch.ones(num_sets, output_dim)/output_dim)\n",
    "\n",
    "        init_val = torch.randn(num_sets, output_dim)\n",
    "        for ns in range(num_sets):\n",
    "            init_val[ns, ns%output_dim] = 5\n",
    "        self.cls_weight = nn.Parameter(init_val)\n",
    "\n",
    "        self.cls_confidence = None\n",
    "\n",
    "\n",
    "    def forward(self, x, hard=False):\n",
    "\n",
    "        dists = torch.cdist(x, self.centers)\n",
    "        ### correction to make diagonal of unit square 1 in nD space\n",
    "        dists = dists/np.sqrt(self.input_dim) + self.bias\n",
    "        dists = dists*torch.exp(self.inv_temp)\n",
    "        if hard:\n",
    "            x = torch.softmax(-dists*1e5, dim=1)\n",
    "        else:\n",
    "            x = torch.softmax(-dists, dim=1)\n",
    "#             x = torch.softmax(-dists*self.inv_temp, dim=1)\n",
    "        self.cls_confidence = x\n",
    "        c = self.cls_weight\n",
    "        return x@c ## since both are normalized, it is also normalized"
   ]
  },
  {
   "cell_type": "code",
   "execution_count": 20,
   "metadata": {},
   "outputs": [
    {
     "data": {
      "text/plain": [
       "Dataset CIFAR10\n",
       "    Number of datapoints: 50000\n",
       "    Root location: ./data/\n",
       "    Split: Train\n",
       "    StandardTransform\n",
       "Transform: Compose(\n",
       "               RandomCrop(size=(32, 32), padding=4)\n",
       "               RandomHorizontalFlip(p=0.5)\n",
       "               ToTensor()\n",
       "               Normalize(mean=[0.4914, 0.4822, 0.4465], std=[0.2023, 0.1994, 0.201])\n",
       "           )"
      ]
     },
     "execution_count": 20,
     "metadata": {},
     "output_type": "execute_result"
    }
   ],
   "source": [
    "train_loader.dataset"
   ]
  },
  {
   "cell_type": "code",
   "execution_count": 21,
   "metadata": {},
   "outputs": [
    {
     "data": {
      "text/plain": [
       "StandardTransform\n",
       "Transform: Compose(\n",
       "               RandomCrop(size=(32, 32), padding=4)\n",
       "               RandomHorizontalFlip(p=0.5)\n",
       "               ToTensor()\n",
       "               Normalize(mean=[0.4914, 0.4822, 0.4465], std=[0.2023, 0.1994, 0.201])\n",
       "           )"
      ]
     },
     "execution_count": 21,
     "metadata": {},
     "output_type": "execute_result"
    }
   ],
   "source": [
    "train_loader.dataset.transforms"
   ]
  },
  {
   "cell_type": "code",
   "execution_count": 22,
   "metadata": {},
   "outputs": [],
   "source": [
    "#### C10\n",
    "classifier = ConnectedClassifier_Distance(3072, 100, 10, inv_temp=3.)\n",
    "#### for MLP based classification\n",
    "# classifier = nn.Sequential(nn.Linear(3072, 100), nn.SELU(), nn.Linear(100, 10))\n",
    "\n",
    "classifier = classifier.to(device)"
   ]
  },
  {
   "cell_type": "code",
   "execution_count": 23,
   "metadata": {},
   "outputs": [],
   "source": [
    "# classifier.set_centroid_to_data_randomly(train_loader, backbone)"
   ]
  },
  {
   "cell_type": "code",
   "execution_count": 24,
   "metadata": {},
   "outputs": [
    {
     "name": "stdout",
     "output_type": "stream",
     "text": [
      "number of params:  9947519\n",
      "number of params:  308301\n"
     ]
    }
   ],
   "source": [
    "print(\"number of params: \", sum(p.numel() for p in backbone.parameters()))\n",
    "print(\"number of params: \", sum(p.numel() for p in classifier.parameters()))"
   ]
  },
  {
   "cell_type": "code",
   "execution_count": 25,
   "metadata": {},
   "outputs": [],
   "source": [
    "model = nn.Sequential(backbone, classifier).to(device)"
   ]
  },
  {
   "cell_type": "code",
   "execution_count": 26,
   "metadata": {},
   "outputs": [
    {
     "name": "stdout",
     "output_type": "stream",
     "text": [
      "number of params:  10255820\n"
     ]
    }
   ],
   "source": [
    "print(\"number of params: \", sum(p.numel() for p in model.parameters()))"
   ]
  },
  {
   "cell_type": "markdown",
   "metadata": {},
   "source": [
    "## Training"
   ]
  },
  {
   "cell_type": "code",
   "execution_count": 27,
   "metadata": {},
   "outputs": [],
   "source": [
    "model_name = 'c10_actnorm_multi_invex'\n",
    "# model_name = 'c10_batchnorm_multi_invex'"
   ]
  },
  {
   "cell_type": "code",
   "execution_count": 28,
   "metadata": {},
   "outputs": [],
   "source": [
    "EPOCHS = 200\n",
    "criterion = nn.CrossEntropyLoss()\n",
    "optimizer = torch.optim.Adam(model.parameters(), lr=0.001)\n",
    "scheduler = torch.optim.lr_scheduler.CosineAnnealingLR(optimizer, T_max=EPOCHS)"
   ]
  },
  {
   "cell_type": "code",
   "execution_count": 29,
   "metadata": {},
   "outputs": [],
   "source": [
    "## Following is copied from \n",
    "### https://github.com/kuangliu/pytorch-cifar/blob/master/main.py\n",
    "\n",
    "# Training\n",
    "def train(epoch):\n",
    "    model.train()\n",
    "    train_loss = 0\n",
    "    correct = 0\n",
    "    total = 0\n",
    "    for batch_idx, (inputs, targets) in enumerate(tqdm(train_loader)):\n",
    "        inputs, targets = inputs.to(device), targets.to(device)\n",
    "        optimizer.zero_grad()\n",
    "        outputs = model(inputs)\n",
    "        loss = criterion(outputs, targets)\n",
    "        loss.backward()\n",
    "        optimizer.step()\n",
    "\n",
    "        train_loss += loss.item()\n",
    "        _, predicted = outputs.max(1)\n",
    "        total += targets.size(0)\n",
    "        correct += predicted.eq(targets).sum().item()\n",
    "    print(f\"[Train] {epoch} Loss: {train_loss/(batch_idx+1):.3f} | Acc: {100.*correct/total:.3f} {correct}/{total}\")\n",
    "    return"
   ]
  },
  {
   "cell_type": "code",
   "execution_count": 30,
   "metadata": {},
   "outputs": [],
   "source": [
    "best_acc = -1\n",
    "def test(epoch):\n",
    "    global best_acc\n",
    "    model.eval()\n",
    "    test_loss = 0\n",
    "    correct = 0\n",
    "    total = 0\n",
    "    with torch.no_grad():\n",
    "        for batch_idx, (inputs, targets) in enumerate(tqdm(test_loader)):\n",
    "            inputs, targets = inputs.to(device), targets.to(device)\n",
    "            outputs = model(inputs)\n",
    "            loss = criterion(outputs, targets)\n",
    "\n",
    "            test_loss += loss.item()\n",
    "            _, predicted = outputs.max(1)\n",
    "            total += targets.size(0)\n",
    "            correct += predicted.eq(targets).sum().item()\n",
    "            \n",
    "    print(f\"[Test] {epoch} Loss: {test_loss/(batch_idx+1):.3f} | Acc: {100.*correct/total:.3f} {correct}/{total}\")\n",
    "    \n",
    "    # Save checkpoint.\n",
    "    acc = 100.*correct/total\n",
    "    if acc > best_acc:\n",
    "        print('Saving..')\n",
    "        state = {\n",
    "            'model': model.state_dict(),\n",
    "            'acc': acc,\n",
    "            'epoch': epoch,\n",
    "        }\n",
    "        if not os.path.isdir('models'):\n",
    "            os.mkdir('models')\n",
    "        torch.save(state, f'./models/{model_name}.pth')\n",
    "        best_acc = acc"
   ]
  },
  {
   "cell_type": "code",
   "execution_count": 31,
   "metadata": {},
   "outputs": [],
   "source": [
    "start_epoch = 0  # start from epoch 0 or last checkpoint epoch\n",
    "resume = False\n",
    "\n",
    "if resume:\n",
    "    # Load checkpoint.\n",
    "    print('==> Resuming from checkpoint..')\n",
    "    assert os.path.isdir('./models'), 'Error: no checkpoint directory found!'\n",
    "    checkpoint = torch.load(f'./models/{model_name}.pth')\n",
    "    model.load_state_dict(checkpoint['model'])\n",
    "    best_acc = checkpoint['acc']\n",
    "    start_epoch = checkpoint['epoch']"
   ]
  },
  {
   "cell_type": "code",
   "execution_count": 32,
   "metadata": {},
   "outputs": [],
   "source": [
    "# ### Train the whole damn thing\n",
    "\n",
    "# for epoch in range(start_epoch, start_epoch+EPOCHS):\n",
    "#     train(epoch)\n",
    "#     test(epoch)\n",
    "#     scheduler.step()"
   ]
  },
  {
   "cell_type": "code",
   "execution_count": 33,
   "metadata": {},
   "outputs": [
    {
     "data": {
      "text/plain": [
       "-1"
      ]
     },
     "execution_count": 33,
     "metadata": {},
     "output_type": "execute_result"
    }
   ],
   "source": [
    "best_acc"
   ]
  },
  {
   "cell_type": "code",
   "execution_count": 34,
   "metadata": {
    "scrolled": true
   },
   "outputs": [
    {
     "data": {
      "text/plain": [
       "Parameter containing:\n",
       "tensor([3.], device='cuda:0', requires_grad=True)"
      ]
     },
     "execution_count": 34,
     "metadata": {},
     "output_type": "execute_result"
    }
   ],
   "source": [
    "classifier.inv_temp"
   ]
  },
  {
   "cell_type": "code",
   "execution_count": 35,
   "metadata": {},
   "outputs": [
    {
     "data": {
      "text/plain": [
       "(84.07, 185)"
      ]
     },
     "execution_count": 35,
     "metadata": {},
     "output_type": "execute_result"
    }
   ],
   "source": [
    "checkpoint = torch.load(f'./models/{model_name}.pth')\n",
    "best_acc = checkpoint['acc']\n",
    "start_epoch = checkpoint['epoch']\n",
    "\n",
    "best_acc, start_epoch"
   ]
  },
  {
   "cell_type": "code",
   "execution_count": 36,
   "metadata": {},
   "outputs": [
    {
     "name": "stdout",
     "output_type": "stream",
     "text": [
      "0.0.s\n",
      "0.0.t\n",
      "0.1.resblock.0.bias\n",
      "0.1.resblock.0.weight_orig\n",
      "0.1.resblock.0.weight_u\n",
      "0.1.resblock.0.weight_v\n",
      "0.1.resblock.0.weight_sigma\n",
      "0.1.resblock.1.beta\n",
      "0.1.resblock.2.bias\n",
      "0.1.resblock.2.weight_orig\n",
      "0.1.resblock.2.weight_u\n",
      "0.1.resblock.2.weight_v\n",
      "0.1.resblock.2.weight_sigma\n",
      "0.1.resblock.3.beta\n",
      "0.1.resblock.4.bias\n",
      "0.1.resblock.4.weight_orig\n",
      "0.1.resblock.4.weight_u\n",
      "0.1.resblock.4.weight_v\n",
      "0.1.resblock.4.weight_sigma\n",
      "0.3.s\n",
      "0.3.t\n",
      "0.4.resblock.0.bias\n",
      "0.4.resblock.0.weight_orig\n",
      "0.4.resblock.0.weight_u\n",
      "0.4.resblock.0.weight_v\n",
      "0.4.resblock.0.weight_sigma\n",
      "0.4.resblock.1.beta\n",
      "0.4.resblock.2.bias\n",
      "0.4.resblock.2.weight_orig\n",
      "0.4.resblock.2.weight_u\n",
      "0.4.resblock.2.weight_v\n",
      "0.4.resblock.2.weight_sigma\n",
      "0.4.resblock.3.beta\n",
      "0.4.resblock.4.bias\n",
      "0.4.resblock.4.weight_orig\n",
      "0.4.resblock.4.weight_u\n",
      "0.4.resblock.4.weight_v\n",
      "0.4.resblock.4.weight_sigma\n",
      "0.5.s\n",
      "0.5.t\n",
      "0.6.resblock.0.bias\n",
      "0.6.resblock.0.weight_orig\n",
      "0.6.resblock.0.weight_u\n",
      "0.6.resblock.0.weight_v\n",
      "0.6.resblock.0.weight_sigma\n",
      "0.6.resblock.1.beta\n",
      "0.6.resblock.2.bias\n",
      "0.6.resblock.2.weight_orig\n",
      "0.6.resblock.2.weight_u\n",
      "0.6.resblock.2.weight_v\n",
      "0.6.resblock.2.weight_sigma\n",
      "0.6.resblock.3.beta\n",
      "0.6.resblock.4.bias\n",
      "0.6.resblock.4.weight_orig\n",
      "0.6.resblock.4.weight_u\n",
      "0.6.resblock.4.weight_v\n",
      "0.6.resblock.4.weight_sigma\n",
      "0.8.s\n",
      "0.8.t\n",
      "0.9.resblock.0.bias\n",
      "0.9.resblock.0.weight_orig\n",
      "0.9.resblock.0.weight_u\n",
      "0.9.resblock.0.weight_v\n",
      "0.9.resblock.0.weight_sigma\n",
      "0.9.resblock.1.beta\n",
      "0.9.resblock.2.bias\n",
      "0.9.resblock.2.weight_orig\n",
      "0.9.resblock.2.weight_u\n",
      "0.9.resblock.2.weight_v\n",
      "0.9.resblock.2.weight_sigma\n",
      "0.9.resblock.3.beta\n",
      "0.9.resblock.4.bias\n",
      "0.9.resblock.4.weight_orig\n",
      "0.9.resblock.4.weight_u\n",
      "0.9.resblock.4.weight_v\n",
      "0.9.resblock.4.weight_sigma\n",
      "0.10.s\n",
      "0.10.t\n",
      "0.11.resblock.0.bias\n",
      "0.11.resblock.0.weight_orig\n",
      "0.11.resblock.0.weight_u\n",
      "0.11.resblock.0.weight_v\n",
      "0.11.resblock.0.weight_sigma\n",
      "0.11.resblock.1.beta\n",
      "0.11.resblock.2.bias\n",
      "0.11.resblock.2.weight_orig\n",
      "0.11.resblock.2.weight_u\n",
      "0.11.resblock.2.weight_v\n",
      "0.11.resblock.2.weight_sigma\n",
      "0.11.resblock.3.beta\n",
      "0.11.resblock.4.bias\n",
      "0.11.resblock.4.weight_orig\n",
      "0.11.resblock.4.weight_u\n",
      "0.11.resblock.4.weight_v\n",
      "0.11.resblock.4.weight_sigma\n",
      "0.13.s\n",
      "0.13.t\n",
      "0.14.resblock.0.bias\n",
      "0.14.resblock.0.weight_orig\n",
      "0.14.resblock.0.weight_u\n",
      "0.14.resblock.0.weight_v\n",
      "0.14.resblock.0.weight_sigma\n",
      "0.14.resblock.1.beta\n",
      "0.14.resblock.2.bias\n",
      "0.14.resblock.2.weight_orig\n",
      "0.14.resblock.2.weight_u\n",
      "0.14.resblock.2.weight_v\n",
      "0.14.resblock.2.weight_sigma\n",
      "0.14.resblock.3.beta\n",
      "0.14.resblock.4.bias\n",
      "0.14.resblock.4.weight_orig\n",
      "0.14.resblock.4.weight_u\n",
      "0.14.resblock.4.weight_v\n",
      "0.14.resblock.4.weight_sigma\n",
      "0.15.s\n",
      "0.15.t\n",
      "0.16.resblock.0.bias\n",
      "0.16.resblock.0.weight_orig\n",
      "0.16.resblock.0.weight_u\n",
      "0.16.resblock.0.weight_v\n",
      "0.16.resblock.0.weight_sigma\n",
      "0.16.resblock.1.beta\n",
      "0.16.resblock.2.bias\n",
      "0.16.resblock.2.weight_orig\n",
      "0.16.resblock.2.weight_u\n",
      "0.16.resblock.2.weight_v\n",
      "0.16.resblock.2.weight_sigma\n",
      "0.16.resblock.3.beta\n",
      "0.16.resblock.4.bias\n",
      "0.16.resblock.4.weight_orig\n",
      "0.16.resblock.4.weight_u\n",
      "0.16.resblock.4.weight_v\n",
      "0.16.resblock.4.weight_sigma\n",
      "0.17.s\n",
      "0.17.t\n",
      "0.19.s\n",
      "0.19.t\n",
      "1.inv_temp\n",
      "1.centers\n",
      "1.bias\n",
      "1.cls_weight\n"
     ]
    }
   ],
   "source": [
    "for k in model.state_dict().keys():\n",
    "    print(k)"
   ]
  },
  {
   "cell_type": "code",
   "execution_count": 37,
   "metadata": {},
   "outputs": [
    {
     "name": "stdout",
     "output_type": "stream",
     "text": [
      "0.0.s\n",
      "0.0.t\n",
      "0.1.resblock.0.bias\n",
      "0.1.resblock.0.weight_orig\n",
      "0.1.resblock.0.weight_u\n",
      "0.1.resblock.0.weight_v\n",
      "0.1.resblock.0.weight_sigma\n",
      "0.1.resblock.1.beta\n",
      "0.1.resblock.2.bias\n",
      "0.1.resblock.2.weight_orig\n",
      "0.1.resblock.2.weight_u\n",
      "0.1.resblock.2.weight_v\n",
      "0.1.resblock.2.weight_sigma\n",
      "0.1.resblock.3.beta\n",
      "0.1.resblock.4.bias\n",
      "0.1.resblock.4.weight_orig\n",
      "0.1.resblock.4.weight_u\n",
      "0.1.resblock.4.weight_v\n",
      "0.1.resblock.4.weight_sigma\n",
      "0.3.s\n",
      "0.3.t\n",
      "0.4.resblock.0.bias\n",
      "0.4.resblock.0.weight_orig\n",
      "0.4.resblock.0.weight_u\n",
      "0.4.resblock.0.weight_v\n",
      "0.4.resblock.0.weight_sigma\n",
      "0.4.resblock.1.beta\n",
      "0.4.resblock.2.bias\n",
      "0.4.resblock.2.weight_orig\n",
      "0.4.resblock.2.weight_u\n",
      "0.4.resblock.2.weight_v\n",
      "0.4.resblock.2.weight_sigma\n",
      "0.4.resblock.3.beta\n",
      "0.4.resblock.4.bias\n",
      "0.4.resblock.4.weight_orig\n",
      "0.4.resblock.4.weight_u\n",
      "0.4.resblock.4.weight_v\n",
      "0.4.resblock.4.weight_sigma\n",
      "0.5.s\n",
      "0.5.t\n",
      "0.6.resblock.0.bias\n",
      "0.6.resblock.0.weight_orig\n",
      "0.6.resblock.0.weight_u\n",
      "0.6.resblock.0.weight_v\n",
      "0.6.resblock.0.weight_sigma\n",
      "0.6.resblock.1.beta\n",
      "0.6.resblock.2.bias\n",
      "0.6.resblock.2.weight_orig\n",
      "0.6.resblock.2.weight_u\n",
      "0.6.resblock.2.weight_v\n",
      "0.6.resblock.2.weight_sigma\n",
      "0.6.resblock.3.beta\n",
      "0.6.resblock.4.bias\n",
      "0.6.resblock.4.weight_orig\n",
      "0.6.resblock.4.weight_u\n",
      "0.6.resblock.4.weight_v\n",
      "0.6.resblock.4.weight_sigma\n",
      "0.8.s\n",
      "0.8.t\n",
      "0.9.resblock.0.bias\n",
      "0.9.resblock.0.weight_orig\n",
      "0.9.resblock.0.weight_u\n",
      "0.9.resblock.0.weight_v\n",
      "0.9.resblock.0.weight_sigma\n",
      "0.9.resblock.1.beta\n",
      "0.9.resblock.2.bias\n",
      "0.9.resblock.2.weight_orig\n",
      "0.9.resblock.2.weight_u\n",
      "0.9.resblock.2.weight_v\n",
      "0.9.resblock.2.weight_sigma\n",
      "0.9.resblock.3.beta\n",
      "0.9.resblock.4.bias\n",
      "0.9.resblock.4.weight_orig\n",
      "0.9.resblock.4.weight_u\n",
      "0.9.resblock.4.weight_v\n",
      "0.9.resblock.4.weight_sigma\n",
      "0.10.s\n",
      "0.10.t\n",
      "0.11.resblock.0.bias\n",
      "0.11.resblock.0.weight_orig\n",
      "0.11.resblock.0.weight_u\n",
      "0.11.resblock.0.weight_v\n",
      "0.11.resblock.0.weight_sigma\n",
      "0.11.resblock.1.beta\n",
      "0.11.resblock.2.bias\n",
      "0.11.resblock.2.weight_orig\n",
      "0.11.resblock.2.weight_u\n",
      "0.11.resblock.2.weight_v\n",
      "0.11.resblock.2.weight_sigma\n",
      "0.11.resblock.3.beta\n",
      "0.11.resblock.4.bias\n",
      "0.11.resblock.4.weight_orig\n",
      "0.11.resblock.4.weight_u\n",
      "0.11.resblock.4.weight_v\n",
      "0.11.resblock.4.weight_sigma\n",
      "0.13.s\n",
      "0.13.t\n",
      "0.14.resblock.0.bias\n",
      "0.14.resblock.0.weight_orig\n",
      "0.14.resblock.0.weight_u\n",
      "0.14.resblock.0.weight_v\n",
      "0.14.resblock.0.weight_sigma\n",
      "0.14.resblock.1.beta\n",
      "0.14.resblock.2.bias\n",
      "0.14.resblock.2.weight_orig\n",
      "0.14.resblock.2.weight_u\n",
      "0.14.resblock.2.weight_v\n",
      "0.14.resblock.2.weight_sigma\n",
      "0.14.resblock.3.beta\n",
      "0.14.resblock.4.bias\n",
      "0.14.resblock.4.weight_orig\n",
      "0.14.resblock.4.weight_u\n",
      "0.14.resblock.4.weight_v\n",
      "0.14.resblock.4.weight_sigma\n",
      "0.15.s\n",
      "0.15.t\n",
      "0.16.resblock.0.bias\n",
      "0.16.resblock.0.weight_orig\n",
      "0.16.resblock.0.weight_u\n",
      "0.16.resblock.0.weight_v\n",
      "0.16.resblock.0.weight_sigma\n",
      "0.16.resblock.1.beta\n",
      "0.16.resblock.2.bias\n",
      "0.16.resblock.2.weight_orig\n",
      "0.16.resblock.2.weight_u\n",
      "0.16.resblock.2.weight_v\n",
      "0.16.resblock.2.weight_sigma\n",
      "0.16.resblock.3.beta\n",
      "0.16.resblock.4.bias\n",
      "0.16.resblock.4.weight_orig\n",
      "0.16.resblock.4.weight_u\n",
      "0.16.resblock.4.weight_v\n",
      "0.16.resblock.4.weight_sigma\n",
      "0.17.s\n",
      "0.17.t\n",
      "0.19.s\n",
      "0.19.t\n",
      "1.inv_temp\n",
      "1.centers\n",
      "1.bias\n",
      "1.cls_weight\n"
     ]
    }
   ],
   "source": [
    "for k in checkpoint[\"model\"].keys():\n",
    "    print(k)"
   ]
  },
  {
   "cell_type": "code",
   "execution_count": 38,
   "metadata": {},
   "outputs": [
    {
     "data": {
      "text/plain": [
       "dict_keys(['model', 'acc', 'epoch'])"
      ]
     },
     "execution_count": 38,
     "metadata": {},
     "output_type": "execute_result"
    }
   ],
   "source": [
    "checkpoint.keys()"
   ]
  },
  {
   "cell_type": "code",
   "execution_count": 39,
   "metadata": {},
   "outputs": [
    {
     "data": {
      "text/plain": [
       "'c10_actnorm_multi_invex'"
      ]
     },
     "execution_count": 39,
     "metadata": {},
     "output_type": "execute_result"
    }
   ],
   "source": [
    "model_name"
   ]
  },
  {
   "cell_type": "code",
   "execution_count": 40,
   "metadata": {},
   "outputs": [
    {
     "ename": "NameError",
     "evalue": "name 'asdasd' is not defined",
     "output_type": "error",
     "traceback": [
      "\u001B[0;31m---------------------------------------------------------------------------\u001B[0m",
      "\u001B[0;31mNameError\u001B[0m                                 Traceback (most recent call last)",
      "Cell \u001B[0;32mIn[40], line 1\u001B[0m\n\u001B[0;32m----> 1\u001B[0m \u001B[43masdasd\u001B[49m\n",
      "\u001B[0;31mNameError\u001B[0m: name 'asdasd' is not defined"
     ]
    }
   ],
   "source": [
    "asdasd"
   ]
  },
  {
   "cell_type": "code",
   "execution_count": 41,
   "metadata": {},
   "outputs": [
    {
     "data": {
      "text/plain": [
       "<All keys matched successfully>"
      ]
     },
     "execution_count": 41,
     "metadata": {},
     "output_type": "execute_result"
    }
   ],
   "source": [
    "model.load_state_dict(checkpoint['model'])"
   ]
  },
  {
   "cell_type": "markdown",
   "metadata": {},
   "source": [
    "### Hard test accuracy with count per classifier"
   ]
  },
  {
   "cell_type": "code",
   "execution_count": 42,
   "metadata": {},
   "outputs": [
    {
     "name": "stdout",
     "output_type": "stream",
     "text": [
      "Testing\n"
     ]
    }
   ],
   "source": [
    "model.eval()\n",
    "print(\"Testing\")"
   ]
  },
  {
   "cell_type": "code",
   "execution_count": 43,
   "metadata": {},
   "outputs": [],
   "source": [
    "backbone, classifier = model[0], model[1]"
   ]
  },
  {
   "cell_type": "code",
   "execution_count": 44,
   "metadata": {},
   "outputs": [
    {
     "data": {
      "text/plain": [
       "ConnectedClassifier_Distance()"
      ]
     },
     "execution_count": 44,
     "metadata": {},
     "output_type": "execute_result"
    }
   ],
   "source": [
    "classifier"
   ]
  },
  {
   "cell_type": "code",
   "execution_count": 45,
   "metadata": {},
   "outputs": [
    {
     "name": "stderr",
     "output_type": "stream",
     "text": [
      "100%|█████████████████████████████████████████████████████| 79/79 [00:00<00:00, 82.66it/s]"
     ]
    },
    {
     "name": "stdout",
     "output_type": "stream",
     "text": [
      "Hard Acc:84.05%\n"
     ]
    },
    {
     "name": "stderr",
     "output_type": "stream",
     "text": [
      "\n"
     ]
    }
   ],
   "source": [
    "test_count = 0\n",
    "test_acc = 0\n",
    "set_count = torch.zeros(classifier.num_sets).to(device)\n",
    "model.eval()\n",
    "for xx, yy in tqdm(test_loader):\n",
    "    xx, yy = xx.to(device), yy.to(device)\n",
    "    with torch.no_grad():\n",
    "        yout = classifier(backbone(xx), hard=True)\n",
    "        set_indx, count = torch.unique(torch.argmax(classifier.cls_confidence, dim=1), return_counts=True) \n",
    "        set_count[set_indx] += count\n",
    "    outputs = torch.argmax(yout, dim=1).data.cpu().numpy()\n",
    "    correct = (outputs == yy.data.cpu().numpy()).astype(float).sum()\n",
    "    test_acc += correct\n",
    "    test_count += len(xx)\n",
    "\n",
    "acc = float(test_acc)/test_count*100\n",
    "print(f'Hard Acc:{acc:.2f}%')"
   ]
  },
  {
   "cell_type": "code",
   "execution_count": 46,
   "metadata": {},
   "outputs": [],
   "source": [
    "## Everything great... collect the images and labes for each cluster"
   ]
  },
  {
   "cell_type": "code",
   "execution_count": 47,
   "metadata": {},
   "outputs": [
    {
     "name": "stderr",
     "output_type": "stream",
     "text": [
      "100%|█████████████████████████████████████████████████████| 79/79 [00:01<00:00, 76.14it/s]"
     ]
    },
    {
     "name": "stdout",
     "output_type": "stream",
     "text": [
      "Hard Acc:84.05%\n",
      "[0, 0, 138, 0, 0, 0, 0, 742, 0, 0, 0, 0, 0, 1026, 0, 1, 1010, 0, 0, 0, 1014, 0, 0, 0, 0, 0, 0, 0, 0, 52, 0, 0, 0, 0, 0, 1013, 0, 0, 0, 774, 0, 0, 0, 0, 0, 0, 0, 0, 999, 0, 0, 0, 0, 0, 0, 0, 0, 0, 0, 0, 0, 1012, 0, 0, 0, 0, 0, 0, 7, 0, 0, 0, 710, 0, 0, 0, 0, 0, 0, 0, 0, 0, 0, 2, 1004, 0, 0, 0, 0, 163, 0, 0, 105, 0, 0, 0, 0, 228, 0, 0]\n"
     ]
    },
    {
     "name": "stderr",
     "output_type": "stream",
     "text": [
      "\n"
     ]
    }
   ],
   "source": [
    "test_count = 0\n",
    "test_acc = 0\n",
    "set_count = torch.zeros(classifier.num_sets).to(device)\n",
    "set_acc = torch.zeros(classifier.num_sets).to(device)\n",
    "for xx, yy in tqdm(test_loader):\n",
    "    xx, yy = xx.to(device), yy.to(device)\n",
    "    with torch.no_grad():\n",
    "        yout = classifier(backbone(xx), hard=True)\n",
    "        \n",
    "    cls_indx = torch.argmax(classifier.cls_confidence, dim=1)\n",
    "    set_indx, count = torch.unique(cls_indx, return_counts=True) \n",
    "    set_count[set_indx] += count\n",
    "    \n",
    "    outputs = torch.argmax(yout, dim=1).data.cpu().numpy()\n",
    "    correct = (outputs == yy.data.cpu().numpy()).astype(float)\n",
    "    \n",
    "    ### class_index has 100 possible values\n",
    "    for i, c in enumerate(correct):\n",
    "        set_acc[cls_indx[i]] += c\n",
    "    \n",
    "#     print(set_acc.sum(), set_count.sum())\n",
    "#     break\n",
    "    test_acc += correct.sum()\n",
    "    test_count += len(xx)\n",
    "\n",
    "print(f'Hard Acc:{float(test_acc)/test_count*100:.2f}%')\n",
    "print(set_count.type(torch.long).tolist())"
   ]
  },
  {
   "cell_type": "code",
   "execution_count": 48,
   "metadata": {},
   "outputs": [
    {
     "name": "stdout",
     "output_type": "stream",
     "text": [
      "idx,\tcls,\tacc \ttot,\tpercent%\n",
      "2,\t2,\t112\t138,\t81.88%\n",
      "7,\t7,\t679\t742,\t91.64%\n",
      "13,\t3,\t707\t1026,\t69.01%\n",
      "15,\t5,\t1\t1,\t100.00%\n",
      "16,\t6,\t886\t1010,\t87.72%\n",
      "20,\t0,\t863\t1014,\t85.21%\n",
      "29,\t9,\t45\t52,\t86.54%\n",
      "35,\t5,\t756\t1013,\t74.63%\n",
      "39,\t9,\t703\t774,\t90.83%\n",
      "48,\t8,\t909\t999,\t91.09%\n",
      "61,\t1,\t918\t1012,\t90.81%\n",
      "68,\t8,\t4\t7,\t57.14%\n",
      "72,\t2,\t577\t710,\t81.27%\n",
      "83,\t3,\t1\t2,\t50.00%\n",
      "84,\t4,\t830\t1004,\t82.67%\n",
      "89,\t9,\t143\t163,\t87.73%\n",
      "92,\t2,\t80\t105,\t76.19%\n",
      "97,\t7,\t185\t228,\t81.14%\n"
     ]
    }
   ],
   "source": [
    "print(f\"idx,\\tcls,\\tacc \\ttot,\\tpercent%\")\n",
    "for i, (cnt, acc, cls) in enumerate(zip(set_count.type(torch.long).tolist(),\n",
    "                                   (set_acc/set_count).tolist(),\n",
    "                                   torch.argmax(classifier.cls_weight, dim=1).tolist())):\n",
    "    if cnt == 0: continue\n",
    "    print(f\"{i},\\t{cls},\\t{int(acc*cnt)}\\t{cnt},\\t{acc*100:.2f}%\")"
   ]
  },
  {
   "cell_type": "code",
   "execution_count": 50,
   "metadata": {},
   "outputs": [
    {
     "data": {
      "text/plain": [
       "18"
      ]
     },
     "execution_count": 50,
     "metadata": {},
     "output_type": "execute_result"
    }
   ],
   "source": [
    "len(set_count.nonzero())"
   ]
  },
  {
   "cell_type": "markdown",
   "metadata": {},
   "source": [
    "## collect data points for all sets"
   ]
  },
  {
   "cell_type": "code",
   "execution_count": 51,
   "metadata": {},
   "outputs": [
    {
     "data": {
      "text/plain": [
       "{2: {'cls': 2,\n",
       "  'correct': 112,\n",
       "  'total': 138,\n",
       "  'acc': 81.88405632972717,\n",
       "  'xs': [],\n",
       "  'ys': []},\n",
       " 7: {'cls': 7,\n",
       "  'correct': 679,\n",
       "  'total': 742,\n",
       "  'acc': 91.64420366287231,\n",
       "  'xs': [],\n",
       "  'ys': []},\n",
       " 13: {'cls': 3,\n",
       "  'correct': 707,\n",
       "  'total': 1026,\n",
       "  'acc': 69.00584697723389,\n",
       "  'xs': [],\n",
       "  'ys': []},\n",
       " 15: {'cls': 5, 'correct': 1, 'total': 1, 'acc': 100.0, 'xs': [], 'ys': []},\n",
       " 16: {'cls': 6,\n",
       "  'correct': 886,\n",
       "  'total': 1010,\n",
       "  'acc': 87.72277235984802,\n",
       "  'xs': [],\n",
       "  'ys': []},\n",
       " 20: {'cls': 0,\n",
       "  'correct': 863,\n",
       "  'total': 1014,\n",
       "  'acc': 85.20709872245789,\n",
       "  'xs': [],\n",
       "  'ys': []},\n",
       " 29: {'cls': 9,\n",
       "  'correct': 45,\n",
       "  'total': 52,\n",
       "  'acc': 86.53846383094788,\n",
       "  'xs': [],\n",
       "  'ys': []},\n",
       " 35: {'cls': 5,\n",
       "  'correct': 756,\n",
       "  'total': 1013,\n",
       "  'acc': 74.62981343269348,\n",
       "  'xs': [],\n",
       "  'ys': []},\n",
       " 39: {'cls': 9,\n",
       "  'correct': 703,\n",
       "  'total': 774,\n",
       "  'acc': 90.82687497138977,\n",
       "  'xs': [],\n",
       "  'ys': []},\n",
       " 48: {'cls': 8,\n",
       "  'correct': 909,\n",
       "  'total': 999,\n",
       "  'acc': 91.09109044075012,\n",
       "  'xs': [],\n",
       "  'ys': []},\n",
       " 61: {'cls': 1,\n",
       "  'correct': 918,\n",
       "  'total': 1012,\n",
       "  'acc': 90.81027507781982,\n",
       "  'xs': [],\n",
       "  'ys': []},\n",
       " 68: {'cls': 8,\n",
       "  'correct': 4,\n",
       "  'total': 7,\n",
       "  'acc': 57.14285969734192,\n",
       "  'xs': [],\n",
       "  'ys': []},\n",
       " 72: {'cls': 2,\n",
       "  'correct': 577,\n",
       "  'total': 710,\n",
       "  'acc': 81.26760721206665,\n",
       "  'xs': [],\n",
       "  'ys': []},\n",
       " 83: {'cls': 3, 'correct': 1, 'total': 2, 'acc': 50.0, 'xs': [], 'ys': []},\n",
       " 84: {'cls': 4,\n",
       "  'correct': 830,\n",
       "  'total': 1004,\n",
       "  'acc': 82.66932368278503,\n",
       "  'xs': [],\n",
       "  'ys': []},\n",
       " 89: {'cls': 9,\n",
       "  'correct': 143,\n",
       "  'total': 163,\n",
       "  'acc': 87.73006200790405,\n",
       "  'xs': [],\n",
       "  'ys': []},\n",
       " 92: {'cls': 2,\n",
       "  'correct': 80,\n",
       "  'total': 105,\n",
       "  'acc': 76.1904776096344,\n",
       "  'xs': [],\n",
       "  'ys': []},\n",
       " 97: {'cls': 7,\n",
       "  'correct': 185,\n",
       "  'total': 228,\n",
       "  'acc': 81.14035129547119,\n",
       "  'xs': [],\n",
       "  'ys': []}}"
      ]
     },
     "execution_count": 51,
     "metadata": {},
     "output_type": "execute_result"
    }
   ],
   "source": [
    "idx_data_dict = {}\n",
    "\n",
    "for i, (cnt, acc, cls) in enumerate(zip(set_count.type(torch.long).tolist(),\n",
    "                                   (set_acc/set_count).tolist(),\n",
    "                                   torch.argmax(classifier.cls_weight, dim=1).tolist())):\n",
    "    if cnt == 0: continue\n",
    "    idx_data_dict[i] = {\"cls\":cls, \"correct\":int(acc*cnt), \"total\":cnt, \"acc\":acc*100, \"xs\":[], \"ys\":[]}\n",
    "    \n",
    "idx_data_dict"
   ]
  },
  {
   "cell_type": "code",
   "execution_count": 52,
   "metadata": {},
   "outputs": [
    {
     "name": "stderr",
     "output_type": "stream",
     "text": [
      "100%|█████████████████████████████████████████████████████| 79/79 [00:01<00:00, 74.24it/s]\n"
     ]
    }
   ],
   "source": [
    "for xx, yy in tqdm(test_loader):\n",
    "    xx, yy = xx.to(device), yy.to(device)\n",
    "    with torch.no_grad():\n",
    "        yout = classifier(backbone(xx), hard=True)\n",
    "        \n",
    "    cls_indx = torch.argmax(classifier.cls_confidence, dim=1).cpu().numpy()\n",
    "    \n",
    "    for i in range(len(cls_indx)):\n",
    "        regi = cls_indx[i]\n",
    "        x = xx[i].cpu()\n",
    "        y = yy[i].cpu()\n",
    "        \n",
    "        idx_data_dict[regi][\"xs\"].append(x)\n",
    "        idx_data_dict[regi][\"ys\"].append(y)\n",
    "    pass"
   ]
  },
  {
   "cell_type": "code",
   "execution_count": 53,
   "metadata": {},
   "outputs": [],
   "source": [
    "# for key, val in idx_data_dict.items():\n",
    "#     print(key)\n",
    "#     xs = torch.cat(val['xs'], dim=0).to(device)\n",
    "#     ys = torch.LongTensor(val['ys'])\n",
    "    \n",
    "#     del xs"
   ]
  },
  {
   "cell_type": "code",
   "execution_count": 54,
   "metadata": {},
   "outputs": [
    {
     "data": {
      "text/plain": [
       "torch.Size([100, 3072])"
      ]
     },
     "execution_count": 54,
     "metadata": {},
     "output_type": "execute_result"
    }
   ],
   "source": [
    "classifier.centers.shape"
   ]
  },
  {
   "cell_type": "code",
   "execution_count": 55,
   "metadata": {},
   "outputs": [
    {
     "data": {
      "text/plain": [
       "SequentialFlow(\n",
       "  (flows): ModuleList(\n",
       "    (0): ActNorm2D()\n",
       "    (1): ConvResidualFlow(\n",
       "      (resblock): ModuleList(\n",
       "        (0): Conv2d(3, 32, kernel_size=(5, 5), stride=(1, 1), padding=(2, 2))\n",
       "        (1): Swish()\n",
       "        (2): Conv2d(32, 32, kernel_size=(5, 5), stride=(1, 1), padding=(2, 2))\n",
       "        (3): Swish()\n",
       "        (4): Conv2d(32, 3, kernel_size=(5, 5), stride=(1, 1), padding=(2, 2))\n",
       "      )\n",
       "    )\n",
       "    (2): InvertiblePooling()\n",
       "    (3): ActNorm2D()\n",
       "    (4): ConvResidualFlow(\n",
       "      (resblock): ModuleList(\n",
       "        (0): Conv2d(12, 64, kernel_size=(5, 5), stride=(1, 1), padding=(2, 2))\n",
       "        (1): Swish()\n",
       "        (2): Conv2d(64, 64, kernel_size=(5, 5), stride=(1, 1), padding=(2, 2))\n",
       "        (3): Swish()\n",
       "        (4): Conv2d(64, 12, kernel_size=(5, 5), stride=(1, 1), padding=(2, 2))\n",
       "      )\n",
       "    )\n",
       "    (5): ActNorm2D()\n",
       "    (6): ConvResidualFlow(\n",
       "      (resblock): ModuleList(\n",
       "        (0): Conv2d(12, 64, kernel_size=(5, 5), stride=(1, 1), padding=(2, 2))\n",
       "        (1): Swish()\n",
       "        (2): Conv2d(64, 64, kernel_size=(5, 5), stride=(1, 1), padding=(2, 2))\n",
       "        (3): Swish()\n",
       "        (4): Conv2d(64, 12, kernel_size=(5, 5), stride=(1, 1), padding=(2, 2))\n",
       "      )\n",
       "    )\n",
       "    (7): InvertiblePooling()\n",
       "    (8): ActNorm2D()\n",
       "    (9): ConvResidualFlow(\n",
       "      (resblock): ModuleList(\n",
       "        (0): Conv2d(48, 128, kernel_size=(5, 5), stride=(1, 1), padding=(2, 2))\n",
       "        (1): Swish()\n",
       "        (2): Conv2d(128, 128, kernel_size=(5, 5), stride=(1, 1), padding=(2, 2))\n",
       "        (3): Swish()\n",
       "        (4): Conv2d(128, 48, kernel_size=(5, 5), stride=(1, 1), padding=(2, 2))\n",
       "      )\n",
       "    )\n",
       "    (10): ActNorm2D()\n",
       "    (11): ConvResidualFlow(\n",
       "      (resblock): ModuleList(\n",
       "        (0): Conv2d(48, 128, kernel_size=(5, 5), stride=(1, 1), padding=(2, 2))\n",
       "        (1): Swish()\n",
       "        (2): Conv2d(128, 128, kernel_size=(5, 5), stride=(1, 1), padding=(2, 2))\n",
       "        (3): Swish()\n",
       "        (4): Conv2d(128, 48, kernel_size=(5, 5), stride=(1, 1), padding=(2, 2))\n",
       "      )\n",
       "    )\n",
       "    (12): InvertiblePooling()\n",
       "    (13): ActNorm2D()\n",
       "    (14): ConvResidualFlow(\n",
       "      (resblock): ModuleList(\n",
       "        (0): Conv2d(192, 256, kernel_size=(5, 5), stride=(1, 1), padding=(2, 2))\n",
       "        (1): Swish()\n",
       "        (2): Conv2d(256, 256, kernel_size=(5, 5), stride=(1, 1), padding=(2, 2))\n",
       "        (3): Swish()\n",
       "        (4): Conv2d(256, 192, kernel_size=(5, 5), stride=(1, 1), padding=(2, 2))\n",
       "      )\n",
       "    )\n",
       "    (15): ActNorm2D()\n",
       "    (16): ConvResidualFlow(\n",
       "      (resblock): ModuleList(\n",
       "        (0): Conv2d(192, 256, kernel_size=(5, 5), stride=(1, 1), padding=(2, 2))\n",
       "        (1): Swish()\n",
       "        (2): Conv2d(256, 256, kernel_size=(5, 5), stride=(1, 1), padding=(2, 2))\n",
       "        (3): Swish()\n",
       "        (4): Conv2d(256, 192, kernel_size=(5, 5), stride=(1, 1), padding=(2, 2))\n",
       "      )\n",
       "    )\n",
       "    (17): ActNorm2D()\n",
       "    (18): Flatten()\n",
       "    (19): ActNorm()\n",
       "  )\n",
       ")"
      ]
     },
     "execution_count": 55,
     "metadata": {},
     "output_type": "execute_result"
    }
   ],
   "source": [
    "invbackbone = SequentialFlow([*backbone])\n",
    "invbackbone"
   ]
  },
  {
   "cell_type": "code",
   "execution_count": 56,
   "metadata": {},
   "outputs": [
    {
     "data": {
      "text/plain": [
       "3072"
      ]
     },
     "execution_count": 56,
     "metadata": {},
     "output_type": "execute_result"
    }
   ],
   "source": [
    "classifier.input_dim"
   ]
  },
  {
   "cell_type": "code",
   "execution_count": 57,
   "metadata": {},
   "outputs": [
    {
     "data": {
      "text/plain": [
       "torch.Size([100, 3072])"
      ]
     },
     "execution_count": 57,
     "metadata": {},
     "output_type": "execute_result"
    }
   ],
   "source": [
    "classifier.centers.data.shape"
   ]
  },
  {
   "cell_type": "code",
   "execution_count": 58,
   "metadata": {},
   "outputs": [],
   "source": [
    "with torch.no_grad():\n",
    "    xcenter = invbackbone.inverse(classifier.centers.data)"
   ]
  },
  {
   "cell_type": "code",
   "execution_count": 59,
   "metadata": {},
   "outputs": [
    {
     "data": {
      "text/plain": [
       "torch.Size([100, 3, 32, 32])"
      ]
     },
     "execution_count": 59,
     "metadata": {},
     "output_type": "execute_result"
    }
   ],
   "source": [
    "xcenter.shape"
   ]
  },
  {
   "cell_type": "code",
   "execution_count": 60,
   "metadata": {},
   "outputs": [],
   "source": [
    "i=0"
   ]
  },
  {
   "cell_type": "code",
   "execution_count": 61,
   "metadata": {},
   "outputs": [],
   "source": [
    "# dmean, dstd = np.array([0, 0, 0]) , np.array([1, 1, 1]) ##f/mnist\n",
    "dmean, dstd = np.array([0.4914, 0.4822, 0.4465]) , np.array([0.2023, 0.1994, 0.2010])\n",
    "# dmean, dstd = np.array([0.5071, 0.4865, 0.4409]) , np.array([0.2009, 0.1984, 0.2023]) ##cifar100"
   ]
  },
  {
   "cell_type": "code",
   "execution_count": 62,
   "metadata": {},
   "outputs": [
    {
     "name": "stdout",
     "output_type": "stream",
     "text": [
      "0\n"
     ]
    },
    {
     "data": {
      "image/png": "[encoded data removed]",
      "text/plain": [
       "<Figure size 640x480 with 1 Axes>"
      ]
     },
     "metadata": {},
     "output_type": "display_data"
    }
   ],
   "source": [
    "#### Run this cell to visualize centers iteratively.... ||||||||||||||||||||\n",
    "img = xcenter[i].cpu().permute(1,2,0).numpy()*dstd + dmean\n",
    "img = (img - img.min()) / (img.max()- img.min())\n",
    "plt.imshow(img)\n",
    "print(i)\n",
    "i+=1"
   ]
  },
  {
   "cell_type": "markdown",
   "metadata": {},
   "source": [
    "#### test reversibility of the network"
   ]
  },
  {
   "cell_type": "code",
   "execution_count": 63,
   "metadata": {},
   "outputs": [],
   "source": [
    "for xx, yy in test_loader:\n",
    "    break"
   ]
  },
  {
   "cell_type": "code",
   "execution_count": 64,
   "metadata": {},
   "outputs": [],
   "source": [
    "# i = 0"
   ]
  },
  {
   "cell_type": "code",
   "execution_count": 65,
   "metadata": {},
   "outputs": [],
   "source": [
    "# ximg = xx[i].cpu().permute(1,2,0).numpy()*dstd + dmean\n",
    "# i+=1\n",
    "# plt.imshow(ximg)"
   ]
  },
  {
   "cell_type": "code",
   "execution_count": 66,
   "metadata": {},
   "outputs": [],
   "source": [
    "xx = xx.to(device)"
   ]
  },
  {
   "cell_type": "code",
   "execution_count": 67,
   "metadata": {},
   "outputs": [
    {
     "data": {
      "text/plain": [
       "torch.Size([128, 3072])"
      ]
     },
     "execution_count": 67,
     "metadata": {},
     "output_type": "execute_result"
    }
   ],
   "source": [
    "backbone(xx).data.shape"
   ]
  },
  {
   "cell_type": "code",
   "execution_count": 68,
   "metadata": {},
   "outputs": [],
   "source": [
    "with torch.no_grad():\n",
    "    xx_ = invbackbone.inverse(invbackbone(xx).data)"
   ]
  },
  {
   "cell_type": "code",
   "execution_count": 69,
   "metadata": {},
   "outputs": [],
   "source": [
    "i = 0"
   ]
  },
  {
   "cell_type": "code",
   "execution_count": 70,
   "metadata": {},
   "outputs": [
    {
     "data": {
      "image/png": "[encoded data removed]",
      "text/plain": [
       "<Figure size 640x480 with 1 Axes>"
      ]
     },
     "metadata": {},
     "output_type": "display_data"
    },
    {
     "name": "stdout",
     "output_type": "stream",
     "text": [
      "Reconstruction\n"
     ]
    },
    {
     "data": {
      "image/png": "[encoded data removed]",
      "text/plain": [
       "<Figure size 640x480 with 1 Axes>"
      ]
     },
     "metadata": {},
     "output_type": "display_data"
    },
    {
     "name": "stdout",
     "output_type": "stream",
     "text": [
      "True\n",
      "0\n"
     ]
    }
   ],
   "source": [
    "ximg_ = xx_[i].cpu().permute(1,2,0).numpy()*dstd + dmean\n",
    "plt.imshow(ximg_)\n",
    "plt.show()\n",
    "print(\"Reconstruction\")\n",
    "ximg = xx[i].cpu().permute(1,2,0).numpy()*dstd + dmean\n",
    "plt.imshow(ximg)\n",
    "plt.show()\n",
    "print(\"True\")\n",
    "print(i)\n",
    "i+=1"
   ]
  },
  {
   "cell_type": "code",
   "execution_count": 71,
   "metadata": {},
   "outputs": [
    {
     "data": {
      "text/plain": [
       "(0.9999921234607696, 0.050970848679542546)"
      ]
     },
     "execution_count": 71,
     "metadata": {},
     "output_type": "execute_result"
    }
   ],
   "source": [
    "ximg_.max(), ximg_.min()"
   ]
  },
  {
   "cell_type": "code",
   "execution_count": 72,
   "metadata": {},
   "outputs": [
    {
     "data": {
      "text/plain": [
       "tensor(2.3499, device='cuda:0', grad_fn=<MaxBackward1>)"
      ]
     },
     "execution_count": 72,
     "metadata": {},
     "output_type": "execute_result"
    }
   ],
   "source": [
    "classifier.centers.max()"
   ]
  },
  {
   "cell_type": "markdown",
   "metadata": {},
   "source": [
    "## Now plot all centers as per index"
   ]
  },
  {
   "cell_type": "code",
   "execution_count": 73,
   "metadata": {},
   "outputs": [],
   "source": [
    "with torch.no_grad():\n",
    "    xcenter = invbackbone.inverse(classifier.centers.data)"
   ]
  },
  {
   "cell_type": "code",
   "execution_count": 74,
   "metadata": {},
   "outputs": [],
   "source": [
    "os.makedirs(f\"./invex_out/multiinvex_centers_viz/{model_name}\", exist_ok=True)"
   ]
  },
  {
   "cell_type": "code",
   "execution_count": 75,
   "metadata": {},
   "outputs": [],
   "source": [
    "imgsize = [3,32,32]\n",
    "# imgsize = [1,28,28]\n",
    "    \n",
    "if isinstance(train_dataset, datasets.FashionMNIST):\n",
    "    train_dataset.classes[0] = 'T-shirt'"
   ]
  },
  {
   "cell_type": "code",
   "execution_count": 76,
   "metadata": {},
   "outputs": [
    {
     "data": {
      "text/plain": [
       "['airplane',\n",
       " 'automobile',\n",
       " 'bird',\n",
       " 'cat',\n",
       " 'deer',\n",
       " 'dog',\n",
       " 'frog',\n",
       " 'horse',\n",
       " 'ship',\n",
       " 'truck']"
      ]
     },
     "execution_count": 76,
     "metadata": {},
     "output_type": "execute_result"
    }
   ],
   "source": [
    "train_dataset.classes"
   ]
  },
  {
   "cell_type": "code",
   "execution_count": 77,
   "metadata": {},
   "outputs": [
    {
     "name": "stdout",
     "output_type": "stream",
     "text": [
      "2 138\n",
      "xMedoid tensor(135, device='cuda:0')\n",
      "xNearest tensor(69, device='cuda:0')\n",
      "7 742\n",
      "xMedoid tensor(455, device='cuda:0')\n",
      "xNearest tensor(455, device='cuda:0')\n",
      "13 1026\n",
      "xMedoid tensor(1015, device='cuda:0')\n",
      "xNearest tensor(967, device='cuda:0')\n",
      "15 1\n",
      "xMedoid tensor(0, device='cuda:0')\n",
      "xNearest tensor(0, device='cuda:0')\n",
      "16 1010\n",
      "xMedoid tensor(481, device='cuda:0')\n",
      "xNearest tensor(617, device='cuda:0')\n",
      "20 1014\n",
      "xMedoid tensor(83, device='cuda:0')\n",
      "xNearest tensor(837, device='cuda:0')\n",
      "29 52\n",
      "xMedoid tensor(13, device='cuda:0')\n",
      "xNearest tensor(18, device='cuda:0')\n",
      "35 1013\n",
      "xMedoid tensor(981, device='cuda:0')\n",
      "xNearest tensor(667, device='cuda:0')\n",
      "39 774\n",
      "xMedoid tensor(13, device='cuda:0')\n",
      "xNearest tensor(666, device='cuda:0')\n",
      "48 999\n",
      "xMedoid tensor(364, device='cuda:0')\n",
      "xNearest tensor(9, device='cuda:0')\n",
      "61 1012\n",
      "xMedoid tensor(921, device='cuda:0')\n",
      "xNearest tensor(957, device='cuda:0')\n",
      "68 7\n",
      "xMedoid tensor(3, device='cuda:0')\n",
      "xNearest tensor(3, device='cuda:0')\n",
      "72 710\n",
      "xMedoid tensor(492, device='cuda:0')\n",
      "xNearest tensor(393, device='cuda:0')\n",
      "83 2\n",
      "xMedoid tensor(0, device='cuda:0')\n",
      "xNearest tensor(0, device='cuda:0')\n",
      "84 1004\n",
      "xMedoid tensor(18, device='cuda:0')\n",
      "xNearest tensor(10, device='cuda:0')\n",
      "89 163\n",
      "xMedoid tensor(140, device='cuda:0')\n",
      "xNearest tensor(82, device='cuda:0')\n",
      "92 105\n",
      "xMedoid tensor(56, device='cuda:0')\n",
      "xNearest tensor(19, device='cuda:0')\n",
      "97 228\n",
      "xMedoid tensor(176, device='cuda:0')\n",
      "xNearest tensor(105, device='cuda:0')\n"
     ]
    }
   ],
   "source": [
    "with torch.no_grad():\n",
    "    for key, val in idx_data_dict.items():\n",
    "        print(key, val['total'])\n",
    "        xs = torch.stack(val['xs'], dim=0).to(device)\n",
    "\n",
    "#         print(xs.shape)\n",
    "        zs = backbone(xs)\n",
    "\n",
    "        ### find the medoid in z-space\n",
    "        idx = torch.cdist(zs, zs).sum(dim=0).argmin()\n",
    "        img = xs[idx].cpu().view(*imgsize).permute(1,2,0).numpy()*dstd + dmean\n",
    "        img = (img - img.min()) / (img.max()- img.min())\n",
    "        plt.imshow(img)\n",
    "        plt.axis('off')\n",
    "        plt.savefig(f\"./invex_out/multiinvex_centers_viz/{model_name}/zmedoid_({key})_{train_dataset.classes[val['cls']]}.png\", bbox_inches='tight')\n",
    "        plt.close()\n",
    "        \n",
    "        ### find nearest in z-space\n",
    "        idx = torch.norm(zs-classifier.centers[key].view(1, np.prod(imgsize)), dim=1).argmin()\n",
    "        img = xs[idx].cpu().view(*imgsize).permute(1,2,0).numpy()*dstd + dmean\n",
    "        img = (img - img.min()) / (img.max()- img.min())\n",
    "        plt.imshow(img)\n",
    "        plt.axis('off')\n",
    "        plt.savefig(f\"./invex_out/multiinvex_centers_viz/{model_name}/znearest_({key})_{train_dataset.classes[val['cls']]}.png\", bbox_inches='tight')\n",
    "        plt.close()\n",
    "\n",
    "\n",
    "        ### find the medoid in x-space\n",
    "        xs = xs.view(-1, np.prod(imgsize))\n",
    "\n",
    "        ys = torch.LongTensor(val['ys'])\n",
    "\n",
    "        ## save center\n",
    "        img = xcenter[key].cpu().permute(1,2,0).numpy()*dstd + dmean\n",
    "        img = (img - img.min()) / (img.max()- img.min())\n",
    "        plt.imshow(img)\n",
    "        plt.axis('off')\n",
    "        plt.savefig(f\"./invex_out/multiinvex_centers_viz/{model_name}/xcenter_({key})_{train_dataset.classes[val['cls']]}.png\", bbox_inches='tight')\n",
    "        plt.close()\n",
    "\n",
    "        ## find medoid of the data\n",
    "        print(\"xMedoid\", idx:=torch.cdist(xs, xs).sum(dim=0).argmin())\n",
    "\n",
    "        img = xs[idx].cpu().view(*imgsize).permute(1,2,0).numpy()*dstd + dmean\n",
    "        img = (img - img.min()) / (img.max()- img.min())\n",
    "        plt.imshow(img)\n",
    "        plt.axis('off')\n",
    "        plt.savefig(f\"./invex_out/multiinvex_centers_viz/{model_name}/xmedoid_({key})_{train_dataset.classes[val['cls']]}.png\", bbox_inches='tight')\n",
    "        plt.close()\n",
    "\n",
    "        ## find closest data point\n",
    "        print(\"xNearest\", idx:=torch.norm(xs-xcenter[key].view(1, np.prod(imgsize)), dim=1).argmin())\n",
    "\n",
    "        img = xs[idx].cpu().view(*imgsize).permute(1,2,0).numpy()*dstd + dmean\n",
    "        img = (img - img.min()) / (img.max()- img.min())\n",
    "        plt.imshow(img)\n",
    "        plt.axis('off')\n",
    "        plt.savefig(f\"./invex_out/multiinvex_centers_viz/{model_name}/xnearest_({key})_{train_dataset.classes[val['cls']]}.png\", bbox_inches='tight')\n",
    "        plt.close()\n",
    "\n",
    "        del xs, ys"
   ]
  },
  {
   "cell_type": "markdown",
   "metadata": {},
   "source": [
    "### Verify Reversibility"
   ]
  },
  {
   "cell_type": "code",
   "execution_count": 78,
   "metadata": {},
   "outputs": [],
   "source": [
    "for xx, yy in train_loader:\n",
    "    break"
   ]
  },
  {
   "cell_type": "code",
   "execution_count": 79,
   "metadata": {},
   "outputs": [
    {
     "data": {
      "text/plain": [
       "SequentialFlow(\n",
       "  (flows): ModuleList(\n",
       "    (0): ActNorm2D()\n",
       "    (1): ConvResidualFlow(\n",
       "      (resblock): ModuleList(\n",
       "        (0): Conv2d(3, 32, kernel_size=(5, 5), stride=(1, 1), padding=(2, 2))\n",
       "        (1): Swish()\n",
       "        (2): Conv2d(32, 32, kernel_size=(5, 5), stride=(1, 1), padding=(2, 2))\n",
       "        (3): Swish()\n",
       "        (4): Conv2d(32, 3, kernel_size=(5, 5), stride=(1, 1), padding=(2, 2))\n",
       "      )\n",
       "    )\n",
       "    (2): InvertiblePooling()\n",
       "    (3): ActNorm2D()\n",
       "    (4): ConvResidualFlow(\n",
       "      (resblock): ModuleList(\n",
       "        (0): Conv2d(12, 64, kernel_size=(5, 5), stride=(1, 1), padding=(2, 2))\n",
       "        (1): Swish()\n",
       "        (2): Conv2d(64, 64, kernel_size=(5, 5), stride=(1, 1), padding=(2, 2))\n",
       "        (3): Swish()\n",
       "        (4): Conv2d(64, 12, kernel_size=(5, 5), stride=(1, 1), padding=(2, 2))\n",
       "      )\n",
       "    )\n",
       "    (5): ActNorm2D()\n",
       "    (6): ConvResidualFlow(\n",
       "      (resblock): ModuleList(\n",
       "        (0): Conv2d(12, 64, kernel_size=(5, 5), stride=(1, 1), padding=(2, 2))\n",
       "        (1): Swish()\n",
       "        (2): Conv2d(64, 64, kernel_size=(5, 5), stride=(1, 1), padding=(2, 2))\n",
       "        (3): Swish()\n",
       "        (4): Conv2d(64, 12, kernel_size=(5, 5), stride=(1, 1), padding=(2, 2))\n",
       "      )\n",
       "    )\n",
       "    (7): InvertiblePooling()\n",
       "    (8): ActNorm2D()\n",
       "    (9): ConvResidualFlow(\n",
       "      (resblock): ModuleList(\n",
       "        (0): Conv2d(48, 128, kernel_size=(5, 5), stride=(1, 1), padding=(2, 2))\n",
       "        (1): Swish()\n",
       "        (2): Conv2d(128, 128, kernel_size=(5, 5), stride=(1, 1), padding=(2, 2))\n",
       "        (3): Swish()\n",
       "        (4): Conv2d(128, 48, kernel_size=(5, 5), stride=(1, 1), padding=(2, 2))\n",
       "      )\n",
       "    )\n",
       "    (10): ActNorm2D()\n",
       "    (11): ConvResidualFlow(\n",
       "      (resblock): ModuleList(\n",
       "        (0): Conv2d(48, 128, kernel_size=(5, 5), stride=(1, 1), padding=(2, 2))\n",
       "        (1): Swish()\n",
       "        (2): Conv2d(128, 128, kernel_size=(5, 5), stride=(1, 1), padding=(2, 2))\n",
       "        (3): Swish()\n",
       "        (4): Conv2d(128, 48, kernel_size=(5, 5), stride=(1, 1), padding=(2, 2))\n",
       "      )\n",
       "    )\n",
       "    (12): InvertiblePooling()\n",
       "    (13): ActNorm2D()\n",
       "    (14): ConvResidualFlow(\n",
       "      (resblock): ModuleList(\n",
       "        (0): Conv2d(192, 256, kernel_size=(5, 5), stride=(1, 1), padding=(2, 2))\n",
       "        (1): Swish()\n",
       "        (2): Conv2d(256, 256, kernel_size=(5, 5), stride=(1, 1), padding=(2, 2))\n",
       "        (3): Swish()\n",
       "        (4): Conv2d(256, 192, kernel_size=(5, 5), stride=(1, 1), padding=(2, 2))\n",
       "      )\n",
       "    )\n",
       "    (15): ActNorm2D()\n",
       "    (16): ConvResidualFlow(\n",
       "      (resblock): ModuleList(\n",
       "        (0): Conv2d(192, 256, kernel_size=(5, 5), stride=(1, 1), padding=(2, 2))\n",
       "        (1): Swish()\n",
       "        (2): Conv2d(256, 256, kernel_size=(5, 5), stride=(1, 1), padding=(2, 2))\n",
       "        (3): Swish()\n",
       "        (4): Conv2d(256, 192, kernel_size=(5, 5), stride=(1, 1), padding=(2, 2))\n",
       "      )\n",
       "    )\n",
       "    (17): ActNorm2D()\n",
       "    (18): Flatten()\n",
       "    (19): ActNorm()\n",
       "  )\n",
       ")"
      ]
     },
     "execution_count": 79,
     "metadata": {},
     "output_type": "execute_result"
    }
   ],
   "source": [
    "invback = SequentialFlow(backbone).to(device)\n",
    "# invback.train()\n",
    "invback.eval()"
   ]
  },
  {
   "cell_type": "code",
   "execution_count": 80,
   "metadata": {},
   "outputs": [],
   "source": [
    "torch.cuda.empty_cache()"
   ]
  },
  {
   "cell_type": "code",
   "execution_count": 81,
   "metadata": {},
   "outputs": [],
   "source": [
    "with torch.no_grad():\n",
    "    yys_ = invback.forward_intermediate(xx.to(device))\n",
    "    xxs_ = invback.inverse_intermediate(yys_[-1].to(device))"
   ]
  },
  {
   "cell_type": "code",
   "execution_count": 82,
   "metadata": {},
   "outputs": [
    {
     "data": {
      "text/plain": [
       "(20, 21, 21)"
      ]
     },
     "execution_count": 82,
     "metadata": {},
     "output_type": "execute_result"
    }
   ],
   "source": [
    "len(invback.flows), len(xxs_), len(yys_)"
   ]
  },
  {
   "cell_type": "code",
   "execution_count": 83,
   "metadata": {},
   "outputs": [
    {
     "name": "stdout",
     "output_type": "stream",
     "text": [
      "ActNorm()\n",
      "f tensor(-276.7374) tensor(347.9033) tensor(0.1002) tensor(5.4070)\n",
      "r tensor(-53.4207) tensor(77.4653)\n",
      "\n",
      "Flatten()\n",
      "f tensor(-53.4207) tensor(77.4653) tensor(0.1254) tensor(3.1592)\n",
      "r tensor(-53.4207) tensor(77.4653)\n",
      "\n",
      "ActNorm2D()\n",
      "f tensor(-53.4207) tensor(77.4653) tensor(0.1254) tensor(3.1592)\n",
      "r tensor(-120.2801) tensor(99.9582)\n",
      "\n",
      "ConvResidualFlow(\n",
      "  (resblock): ModuleList(\n",
      "    (0): Conv2d(192, 256, kernel_size=(5, 5), stride=(1, 1), padding=(2, 2))\n",
      "    (1): Swish()\n",
      "    (2): Conv2d(256, 256, kernel_size=(5, 5), stride=(1, 1), padding=(2, 2))\n",
      "    (3): Swish()\n",
      "    (4): Conv2d(256, 192, kernel_size=(5, 5), stride=(1, 1), padding=(2, 2))\n",
      "  )\n",
      ")\n",
      "f tensor(-120.2801) tensor(99.9582) tensor(0.1791) tensor(5.6086)\n",
      "r tensor(-120.6320) tensor(100.5804)\n",
      "\n",
      "ActNorm2D()\n",
      "f tensor(-120.6320) tensor(100.5804) tensor(0.1745) tensor(5.6358)\n",
      "r tensor(-100.3483) tensor(59.9762)\n",
      "\n",
      "ConvResidualFlow(\n",
      "  (resblock): ModuleList(\n",
      "    (0): Conv2d(192, 256, kernel_size=(5, 5), stride=(1, 1), padding=(2, 2))\n",
      "    (1): Swish()\n",
      "    (2): Conv2d(256, 256, kernel_size=(5, 5), stride=(1, 1), padding=(2, 2))\n",
      "    (3): Swish()\n",
      "    (4): Conv2d(256, 192, kernel_size=(5, 5), stride=(1, 1), padding=(2, 2))\n",
      "  )\n",
      ")\n",
      "f tensor(-100.3483) tensor(59.9762) tensor(0.2843) tensor(5.3445)\n",
      "r tensor(-100.0765) tensor(59.9863)\n",
      "\n",
      "ActNorm2D()\n",
      "f tensor(-100.0765) tensor(59.9863) tensor(0.2876) tensor(5.3497)\n",
      "r tensor(-53.4391) tensor(44.1266)\n",
      "\n",
      "InvertiblePooling()\n",
      "f tensor(-53.4391) tensor(44.1266) tensor(0.4595) tensor(6.7561)\n",
      "r tensor(-53.4391) tensor(44.1266)\n",
      "\n",
      "ConvResidualFlow(\n",
      "  (resblock): ModuleList(\n",
      "    (0): Conv2d(48, 128, kernel_size=(5, 5), stride=(1, 1), padding=(2, 2))\n",
      "    (1): Swish()\n",
      "    (2): Conv2d(128, 128, kernel_size=(5, 5), stride=(1, 1), padding=(2, 2))\n",
      "    (3): Swish()\n",
      "    (4): Conv2d(128, 48, kernel_size=(5, 5), stride=(1, 1), padding=(2, 2))\n",
      "  )\n",
      ")\n",
      "f tensor(-53.4391) tensor(44.1266) tensor(0.4595) tensor(6.7561)\n",
      "r tensor(-53.5421) tensor(43.2691)\n",
      "\n",
      "ActNorm2D()\n",
      "f tensor(-53.5421) tensor(43.2692) tensor(0.4542) tensor(6.7104)\n",
      "r tensor(-67.6566) tensor(85.5380)\n",
      "\n",
      "ConvResidualFlow(\n",
      "  (resblock): ModuleList(\n",
      "    (0): Conv2d(48, 128, kernel_size=(5, 5), stride=(1, 1), padding=(2, 2))\n",
      "    (1): Swish()\n",
      "    (2): Conv2d(128, 128, kernel_size=(5, 5), stride=(1, 1), padding=(2, 2))\n",
      "    (3): Swish()\n",
      "    (4): Conv2d(128, 48, kernel_size=(5, 5), stride=(1, 1), padding=(2, 2))\n",
      "  )\n",
      ")\n",
      "f tensor(-67.6566) tensor(85.5380) tensor(0.7856) tensor(12.2751)\n",
      "r tensor(-67.6251) tensor(85.2937)\n",
      "\n",
      "ActNorm2D()\n",
      "f tensor(-67.6250) tensor(85.2938) tensor(0.7712) tensor(12.2477)\n",
      "r tensor(-70.4631) tensor(74.5740)\n",
      "\n",
      "InvertiblePooling()\n",
      "f tensor(-70.4630) tensor(74.5741) tensor(0.4414) tensor(11.2259)\n",
      "r tensor(-70.4631) tensor(74.5740)\n",
      "\n",
      "ConvResidualFlow(\n",
      "  (resblock): ModuleList(\n",
      "    (0): Conv2d(12, 64, kernel_size=(5, 5), stride=(1, 1), padding=(2, 2))\n",
      "    (1): Swish()\n",
      "    (2): Conv2d(64, 64, kernel_size=(5, 5), stride=(1, 1), padding=(2, 2))\n",
      "    (3): Swish()\n",
      "    (4): Conv2d(64, 12, kernel_size=(5, 5), stride=(1, 1), padding=(2, 2))\n",
      "  )\n",
      ")\n",
      "f tensor(-70.4630) tensor(74.5741) tensor(0.4414) tensor(11.2259)\n",
      "r tensor(-69.8926) tensor(73.9730)\n",
      "\n",
      "ActNorm2D()\n",
      "f tensor(-69.8926) tensor(73.9730) tensor(0.3871) tensor(11.1767)\n",
      "r tensor(-20.3055) tensor(20.0412)\n",
      "\n",
      "ConvResidualFlow(\n",
      "  (resblock): ModuleList(\n",
      "    (0): Conv2d(12, 64, kernel_size=(5, 5), stride=(1, 1), padding=(2, 2))\n",
      "    (1): Swish()\n",
      "    (2): Conv2d(64, 64, kernel_size=(5, 5), stride=(1, 1), padding=(2, 2))\n",
      "    (3): Swish()\n",
      "    (4): Conv2d(64, 12, kernel_size=(5, 5), stride=(1, 1), padding=(2, 2))\n",
      "  )\n",
      ")\n",
      "f tensor(-20.3055) tensor(20.0412) tensor(0.0574) tensor(3.4107)\n",
      "r tensor(-19.4893) tensor(19.7970)\n",
      "\n",
      "ActNorm2D()\n",
      "f tensor(-19.4893) tensor(19.7969) tensor(-0.0675) tensor(3.6100)\n",
      "r tensor(-4.8623) tensor(5.1768)\n",
      "\n",
      "InvertiblePooling()\n",
      "f tensor(-4.8624) tensor(5.1768) tensor(-0.1664) tensor(1.3015)\n",
      "r tensor(-4.8623) tensor(5.1768)\n",
      "\n",
      "ConvResidualFlow(\n",
      "  (resblock): ModuleList(\n",
      "    (0): Conv2d(3, 32, kernel_size=(5, 5), stride=(1, 1), padding=(2, 2))\n",
      "    (1): Swish()\n",
      "    (2): Conv2d(32, 32, kernel_size=(5, 5), stride=(1, 1), padding=(2, 2))\n",
      "    (3): Swish()\n",
      "    (4): Conv2d(32, 3, kernel_size=(5, 5), stride=(1, 1), padding=(2, 2))\n",
      "  )\n",
      ")\n",
      "f tensor(-4.8624) tensor(5.1768) tensor(-0.1664) tensor(1.3015)\n",
      "r tensor(-2.7339) tensor(3.9500)\n",
      "\n",
      "ActNorm2D()\n",
      "f tensor(-2.7334) tensor(3.9497) tensor(-0.0115) tensor(1.6894)\n",
      "r tensor(-2.4294) tensor(2.7539)\n",
      "\n"
     ]
    }
   ],
   "source": [
    "for i in range(len(invback.flows)):\n",
    "    print(invback.flows[-i-1])\n",
    "    print(\"f\", yys_[-i-1].min(), yys_[-i-1].max(), yys_[-i-1].mean(), yys_[-i-1].std())\n",
    "    print(\"r\", xxs_[i+1].min(), xxs_[i+1].max())\n",
    "    print()"
   ]
  },
  {
   "cell_type": "code",
   "execution_count": 84,
   "metadata": {},
   "outputs": [
    {
     "data": {
      "text/plain": [
       "False"
      ]
     },
     "execution_count": 84,
     "metadata": {},
     "output_type": "execute_result"
    }
   ],
   "source": [
    "invback.flows[2].training"
   ]
  },
  {
   "cell_type": "code",
   "execution_count": 85,
   "metadata": {},
   "outputs": [
    {
     "data": {
      "text/plain": [
       "(tensor(-276.7374), tensor(347.9033))"
      ]
     },
     "execution_count": 85,
     "metadata": {},
     "output_type": "execute_result"
    }
   ],
   "source": [
    "xxs_[0].min(), xxs_[0].max()"
   ]
  },
  {
   "cell_type": "code",
   "execution_count": 86,
   "metadata": {},
   "outputs": [
    {
     "data": {
      "text/plain": [
       "(tensor(-276.7374), tensor(347.9033))"
      ]
     },
     "execution_count": 86,
     "metadata": {},
     "output_type": "execute_result"
    }
   ],
   "source": [
    "yys_[-1].min(), yys_[-1].max()"
   ]
  },
  {
   "cell_type": "code",
   "execution_count": null,
   "metadata": {},
   "outputs": [],
   "source": []
  }
 ],
 "metadata": {
  "kernelspec": {
   "display_name": "Python 3 (ipykernel)",
   "language": "python",
   "name": "python3"
  },
  "language_info": {
   "codemirror_mode": {
    "name": "ipython",
    "version": 3
   },
   "file_extension": ".py",
   "mimetype": "text/x-python",
   "name": "python",
   "nbconvert_exporter": "python",
   "pygments_lexer": "ipython3",
   "version": "3.11.9"
  }
 },
 "nbformat": 4,
 "nbformat_minor": 4
}
