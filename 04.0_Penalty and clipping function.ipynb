{
 "cells": [
  {
   "cell_type": "code",
   "execution_count": 1,
   "metadata": {},
   "outputs": [],
   "source": [
    "import numpy as np\n",
    "import copy\n",
    "import matplotlib\n",
    "import matplotlib.pyplot as plt\n",
    "from mpl_toolkits.mplot3d import Axes3D\n",
    "import random, os, pathlib\n",
    "\n",
    "import torch\n",
    "import torch.nn as nn\n",
    "import torch.nn.functional as F"
   ]
  },
  {
   "cell_type": "code",
   "execution_count": 4,
   "metadata": {},
   "outputs": [],
   "source": [
    "def smooth_l1(x, beta=1):\n",
    "    mask = x<beta\n",
    "    y = torch.empty_like(x)\n",
    "    y[mask] = 0.5*(x[mask]**2)/beta\n",
    "    y[~mask] = torch.abs(x[~mask])-0.5*beta\n",
    "    return y\n",
    "\n",
    "def get_gp(cond):\n",
    "    a=-20\n",
    "    intolerables = F.softplus(cond-0.01, beta=-20)*5\n",
    "#     intolerables = torch.clamp(F.softplus(cond-0.01, beta=-20), -1, 1)\n",
    "#     intolerables = F.softplus(F.softplus(cond-0.1, beta=-20)+2, beta=10)-2\n",
    "#     self.gp = (self.smooth_l1(intolerables*5)).mean()*self.lamda\n",
    "    \n",
    "    return intolerables\n",
    "#     return smooth_l1(intolerables)\n",
    "#     self.gp = (self.smooth_l1(intolerables*5)).mean()*self.lamda\n",
    "\n",
    "def get_gs(cond):\n",
    "    linear_mask = cond>0.14845\n",
    "    a = 20.\n",
    "    gclipper = -((1.05*(cond-1))**4)+1\n",
    "    gclipper = torch.log(torch.exp(a*gclipper)+1)/a\n",
    "    gc2 = 3*cond-0.0844560006\n",
    "    gclipper[linear_mask] = gc2[linear_mask]\n",
    "    return gclipper\n",
    "\n",
    "def get_gs2(cond):\n",
    "    linear_mask = cond>0.08497\n",
    "    a = 20.\n",
    "    gclipper = -((1.05*(cond-1))**4)+1\n",
    "    gclipper = torch.log(torch.exp(a*gclipper)+1)/a\n",
    "    gc2 = 20.833544724 * (x**2)\n",
    "    gclipper[linear_mask] = gc2[linear_mask]\n",
    "    return gclipper"
   ]
  },
  {
   "cell_type": "code",
   "execution_count": 5,
   "metadata": {},
   "outputs": [
    {
     "data": {
      "image/png": "[encoded data removed]",
      "text/plain": [
       "<Figure size 288x216 with 1 Axes>"
      ]
     },
     "metadata": {
      "needs_background": "light"
     },
     "output_type": "display_data"
    }
   ],
   "source": [
    "x = torch.linspace(-1.3, 0.7, 200)\n",
    "\n",
    "gp = get_gp(x)\n",
    "gs = get_gs(x)\n",
    "\n",
    "%matplotlib inline\n",
    "# plt.axis('equal')\n",
    "plt.figure(figsize=(4,3))\n",
    "plt.plot(x, gp, lw=2, label='gradient penalty')\n",
    "plt.plot(x, gs, lw=2, label='output-gradient clipper')\n",
    "plt.hlines(0, -2, 2)\n",
    "plt.vlines(0, -5, 2)\n",
    "plt.xlim(-0.7, 0.7)\n",
    "plt.ylim(-3, 2)\n",
    "# plt.xlim(-0.5, 0.5)\n",
    "# plt.ylim(-0.5, 0.5)\n",
    "\n",
    "plt.xlabel(\"x\")\n",
    "plt.ylabel(\"y\")\n",
    "plt.grid()\n",
    "plt.legend()\n",
    "\n",
    "plt.savefig(\"./invex_out/gc_gp.pdf\", bbox_inches='tight')"
   ]
  },
  {
   "cell_type": "code",
   "execution_count": 17,
   "metadata": {},
   "outputs": [
    {
     "name": "stderr",
     "output_type": "stream",
     "text": [
      "/home/tsuman/Program_Files/Python/miniconda3/lib/python3.7/site-packages/torch/nn/functional.py:1639: UserWarning: nn.functional.sigmoid is deprecated. Use torch.sigmoid instead.\n",
      "  warnings.warn(\"nn.functional.sigmoid is deprecated. Use torch.sigmoid instead.\")\n"
     ]
    },
    {
     "data": {
      "text/plain": [
       "[<matplotlib.lines.Line2D at 0x7f08df40a5d0>]"
      ]
     },
     "execution_count": 17,
     "metadata": {},
     "output_type": "execute_result"
    },
    {
     "data": {
      "image/png": "[encoded data removed]",
      "text/plain": [
       "<Figure size 432x288 with 1 Axes>"
      ]
     },
     "metadata": {
      "needs_background": "light"
     },
     "output_type": "display_data"
    }
   ],
   "source": [
    "plt.plot(x, F.sigmoid(4*x))"
   ]
  },
  {
   "cell_type": "code",
   "execution_count": null,
   "metadata": {},
   "outputs": [],
   "source": []
  }
 ],
 "metadata": {
  "kernelspec": {
   "display_name": "Python 3",
   "language": "python",
   "name": "python3"
  },
  "language_info": {
   "codemirror_mode": {
    "name": "ipython",
    "version": 3
   },
   "file_extension": ".py",
   "mimetype": "text/x-python",
   "name": "python",
   "nbconvert_exporter": "python",
   "pygments_lexer": "ipython3",
   "version": "3.7.4"
  }
 },
 "nbformat": 4,
 "nbformat_minor": 4
}
