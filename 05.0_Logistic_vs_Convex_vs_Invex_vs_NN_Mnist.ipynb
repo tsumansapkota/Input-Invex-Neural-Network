{
 "cells": [
  {
   "cell_type": "code",
   "execution_count": 1,
   "metadata": {},
   "outputs": [],
   "source": [
    "import numpy as np\n",
    "import copy\n",
    "import matplotlib\n",
    "import matplotlib.pyplot as plt\n",
    "from mpl_toolkits.mplot3d import Axes3D\n",
    "import random, os, pathlib\n",
    "\n",
    "import torch\n",
    "import torch.nn as nn\n",
    "from torch.utils import data"
   ]
  },
  {
   "cell_type": "markdown",
   "metadata": {},
   "source": [
    "## MNIST dataset"
   ]
  },
  {
   "cell_type": "code",
   "execution_count": 2,
   "metadata": {},
   "outputs": [],
   "source": [
    "import mylibrary.datasets as datasets\n",
    "import mylibrary.nnlib as tnn\n",
    "from classes import *"
   ]
  },
  {
   "cell_type": "code",
   "execution_count": 3,
   "metadata": {},
   "outputs": [],
   "source": [
    "mnist = datasets.MNIST()\n",
    "train_data, train_label_, test_data, test_label_ = mnist.load()\n",
    "\n",
    "train_data = train_data / 255.\n",
    "test_data = test_data / 255.\n",
    "\n",
    "# train_label = tnn.Logits.index_to_logit(train_label_)\n",
    "train_size = len(train_label_)"
   ]
  },
  {
   "cell_type": "code",
   "execution_count": 4,
   "metadata": {},
   "outputs": [],
   "source": [
    "## converting data to pytorch format\n",
    "train_data = torch.Tensor(train_data)\n",
    "test_data = torch.Tensor(test_data)\n",
    "train_label = torch.LongTensor(train_label_)\n",
    "test_label = torch.LongTensor(test_label_)"
   ]
  },
  {
   "cell_type": "code",
   "execution_count": 5,
   "metadata": {},
   "outputs": [],
   "source": [
    "class MNIST_OneClass_Balanced(data.Dataset):\n",
    "    \n",
    "    def __init__(self, data, label, class_index):\n",
    "        self.data = data\n",
    "        self.label = label\n",
    "        self.class_index = class_index\n",
    "        \n",
    "        mask = (label==class_index)\n",
    "        self.label = mask.type(torch.float32).reshape(-1,1)\n",
    "        self.class_data = torch.nonzero(mask).reshape(-1)\n",
    "        self.other_data = torch.nonzero(~mask).reshape(-1)\n",
    "        \n",
    "        self._shuffle_data_()\n",
    "        self.count = 0\n",
    "        \n",
    "    def __len__(self):\n",
    "        return 2*len(self.class_data)\n",
    "    \n",
    "    def _shuffle_data_(self):\n",
    "        randidx = np.random.permutation(len(self.other_data))\n",
    "        self.other_data = self.other_data[randidx]\n",
    "    \n",
    "    def __getitem__(self, idx):\n",
    "        if idx < len(self.class_data):\n",
    "            idx = self.class_data[idx]\n",
    "            img, lbl = self.data[idx], self.label[idx]\n",
    "        else:\n",
    "            idx = self.other_data[idx-len(self.class_data)]\n",
    "            img, lbl = self.data[idx], self.label[idx]\n",
    "            self.count += 1\n",
    "            if self.count >= len(self.class_data): \n",
    "                self._shuffle_data_()\n",
    "                self.count = 0\n",
    "        return img, lbl"
   ]
  },
  {
   "cell_type": "code",
   "execution_count": 36,
   "metadata": {},
   "outputs": [],
   "source": [
    "class_idx = 1\n",
    "train_dataset = MNIST_OneClass_Balanced(train_data, train_label, class_idx)\n",
    "test_dataset = MNIST_OneClass_Balanced(test_data, test_label, class_idx)"
   ]
  },
  {
   "cell_type": "code",
   "execution_count": 7,
   "metadata": {},
   "outputs": [
    {
     "data": {
      "text/plain": [
       "(11846, 1960)"
      ]
     },
     "execution_count": 7,
     "metadata": {},
     "output_type": "execute_result"
    }
   ],
   "source": [
    "len(train_dataset), len(test_dataset)"
   ]
  },
  {
   "cell_type": "code",
   "execution_count": 8,
   "metadata": {},
   "outputs": [
    {
     "name": "stdout",
     "output_type": "stream",
     "text": [
      "tensor([1.])\n"
     ]
    },
    {
     "data": {
      "text/plain": [
       "<matplotlib.image.AxesImage at 0x7f4c6f662850>"
      ]
     },
     "execution_count": 8,
     "metadata": {},
     "output_type": "execute_result"
    },
    {
     "data": {
      "image/png": "[encoded data removed]",
      "text/plain": [
       "<Figure size 432x288 with 1 Axes>"
      ]
     },
     "metadata": {
      "needs_background": "light"
     },
     "output_type": "display_data"
    }
   ],
   "source": [
    "%matplotlib inline\n",
    "# img, lbl = train_dataset[11010]\n",
    "img, lbl = test_dataset[10]\n",
    "print(lbl)\n",
    "plt.imshow(img.reshape(28,28))"
   ]
  },
  {
   "cell_type": "code",
   "execution_count": 9,
   "metadata": {},
   "outputs": [],
   "source": [
    "input_size = 784\n",
    "output_size = 10\n",
    "\n",
    "learning_rate = 0.0001\n",
    "batch_size = 50"
   ]
  },
  {
   "cell_type": "code",
   "execution_count": 10,
   "metadata": {},
   "outputs": [],
   "source": [
    "train_loader = data.DataLoader(dataset=train_dataset, num_workers=4, batch_size=batch_size, shuffle=True)\n",
    "test_loader = data.DataLoader(dataset=test_dataset, num_workers=4, batch_size=batch_size, shuffle=False)"
   ]
  },
  {
   "cell_type": "code",
   "execution_count": 11,
   "metadata": {},
   "outputs": [],
   "source": [
    "# network_seeds = [147, 258, 369]\n",
    "network_seeds = [369]\n",
    "\n",
    "EPOCHS = 20\n",
    "\n",
    "actf = nn.LeakyReLU\n",
    "# actf = nn.ELU\n",
    "\n",
    "learning_rate = 0.005\n",
    "lambda_ = 2\n",
    "criterion = nn.BCELoss()\n",
    "sigmoid = nn.Sigmoid()"
   ]
  },
  {
   "cell_type": "markdown",
   "metadata": {},
   "source": [
    "## Logistic Regression"
   ]
  },
  {
   "cell_type": "code",
   "execution_count": 12,
   "metadata": {},
   "outputs": [],
   "source": [
    "torch.manual_seed(369)\n",
    "logNet = LogisticRegression(784)\n",
    "optimizer = torch.optim.Adam(logNet.parameters(), lr=learning_rate)"
   ]
  },
  {
   "cell_type": "code",
   "execution_count": 13,
   "metadata": {},
   "outputs": [
    {
     "name": "stdout",
     "output_type": "stream",
     "text": [
      "Epoch: 0:200,  Loss:0.03725191205739975\n",
      "Train Acc:95.77%, Test Acc:98.57%\n",
      "\n",
      "\n",
      "Epoch: 1:400,  Loss:0.04085111618041992\n",
      "Train Acc:98.01%, Test Acc:98.78%\n",
      "\n",
      "\n",
      "Epoch: 2:600,  Loss:0.01985868252813816\n",
      "Train Acc:98.22%, Test Acc:98.88%\n",
      "\n",
      "\n",
      "Epoch: 3:800,  Loss:0.011171667836606503\n",
      "Train Acc:98.56%, Test Acc:98.67%\n",
      "\n",
      "\n",
      "Epoch: 4:1000,  Loss:0.06313442438840866\n",
      "Train Acc:98.54%, Test Acc:98.88%\n",
      "\n",
      "\n",
      "Epoch: 5:1200,  Loss:0.03121631219983101\n",
      "Train Acc:98.67%, Test Acc:98.93%\n",
      "\n",
      "\n",
      "Epoch: 5:1400,  Loss:0.12449567764997482\n",
      "Train Acc:98.54%, Test Acc:98.78%\n",
      "\n",
      "\n",
      "Epoch: 6:1600,  Loss:0.006716406438499689\n",
      "Train Acc:98.62%, Test Acc:98.57%\n",
      "\n",
      "\n",
      "Epoch: 7:1800,  Loss:0.009142469614744186\n",
      "Train Acc:98.58%, Test Acc:98.88%\n",
      "\n",
      "\n",
      "Epoch: 8:2000,  Loss:0.1843794286251068\n",
      "Train Acc:98.67%, Test Acc:98.52%\n",
      "\n",
      "\n",
      "Epoch: 9:2200,  Loss:0.07176167517900467\n",
      "Train Acc:98.84%, Test Acc:98.88%\n",
      "\n",
      "\n",
      "Epoch: 10:2400,  Loss:0.12318834662437439\n",
      "Train Acc:98.53%, Test Acc:99.08%\n",
      "\n",
      "\n",
      "Epoch: 10:2600,  Loss:0.1665513962507248\n",
      "Train Acc:98.64%, Test Acc:98.93%\n",
      "\n",
      "\n",
      "Epoch: 11:2800,  Loss:0.08282206207513809\n",
      "Train Acc:98.70%, Test Acc:98.78%\n",
      "\n",
      "\n",
      "Epoch: 12:3000,  Loss:0.05289657413959503\n",
      "Train Acc:98.95%, Test Acc:98.72%\n",
      "\n",
      "\n",
      "Epoch: 13:3200,  Loss:0.030292706564068794\n",
      "Train Acc:98.74%, Test Acc:98.78%\n",
      "\n",
      "\n",
      "Epoch: 14:3400,  Loss:0.04128630459308624\n",
      "Train Acc:98.61%, Test Acc:98.78%\n",
      "\n",
      "\n",
      "Epoch: 15:3600,  Loss:0.006022124085575342\n",
      "Train Acc:98.53%, Test Acc:98.78%\n",
      "\n",
      "\n",
      "Epoch: 16:3800,  Loss:0.017207765951752663\n",
      "Train Acc:98.75%, Test Acc:98.72%\n",
      "\n",
      "\n",
      "Epoch: 16:4000,  Loss:0.1828458160161972\n",
      "Train Acc:98.89%, Test Acc:98.57%\n",
      "\n",
      "\n",
      "Epoch: 17:4200,  Loss:0.027818042784929276\n",
      "Train Acc:98.84%, Test Acc:98.78%\n",
      "\n",
      "\n",
      "Epoch: 18:4400,  Loss:0.02077437937259674\n",
      "Train Acc:98.81%, Test Acc:98.32%\n",
      "\n",
      "\n",
      "Epoch: 19:4600,  Loss:0.01491849310696125\n",
      "Train Acc:98.93%, Test Acc:98.78%\n",
      "\n",
      "\n"
     ]
    }
   ],
   "source": [
    "losses = []\n",
    "train_accs = []\n",
    "test_accs = []\n",
    "\n",
    "index = 0\n",
    "for epoch in range(20):\n",
    "    train_acc = 0\n",
    "    train_count = 0\n",
    "    for xx, yy in train_loader:\n",
    "        index += 1\n",
    "\n",
    "        yout = logNet(xx)    \n",
    "        loss = criterion(yout, yy)\n",
    "        losses.append(float(loss))\n",
    "\n",
    "        optimizer.zero_grad()\n",
    "        loss.backward()\n",
    "        optimizer.step()\n",
    "        \n",
    "        outputs = (yout.data.cpu().numpy() > 0.5).astype(float)\n",
    "        correct = (outputs == yy.data.cpu().numpy()).astype(float).sum()\n",
    "        train_acc += correct\n",
    "        train_count += len(outputs)\n",
    "\n",
    "        if index%200 == 0:\n",
    "            train_accs.append(float(train_acc)/train_count*100)\n",
    "            train_acc = 0\n",
    "            train_count = 0\n",
    "\n",
    "            print(f'Epoch: {epoch}:{index},  Loss:{float(loss)}')\n",
    "            test_count = 0\n",
    "            test_acc = 0\n",
    "            for xx, yy in test_loader:\n",
    "                with torch.no_grad():\n",
    "                    yout = logNet(xx)\n",
    "                outputs = (yout.data.cpu().numpy() > 0.5).astype(float)\n",
    "                correct = (outputs == yy.data.cpu().numpy()).astype(float).sum()\n",
    "                test_acc += correct\n",
    "                test_count += len(xx)\n",
    "            test_accs.append(float(test_acc)/test_count*100)\n",
    "            print(f'Train Acc:{train_accs[-1]:.2f}%, Test Acc:{test_accs[-1]:.2f}%')\n",
    "            print(\"\\n\")"
   ]
  },
  {
   "cell_type": "code",
   "execution_count": 14,
   "metadata": {},
   "outputs": [
    {
     "data": {
      "image/png": "[encoded data removed]",
      "text/plain": [
       "<Figure size 432x288 with 1 Axes>"
      ]
     },
     "metadata": {
      "needs_background": "light"
     },
     "output_type": "display_data"
    },
    {
     "data": {
      "image/png": "[encoded data removed]",
      "text/plain": [
       "<Figure size 432x288 with 1 Axes>"
      ]
     },
     "metadata": {
      "needs_background": "light"
     },
     "output_type": "display_data"
    },
    {
     "name": "stdout",
     "output_type": "stream",
     "text": [
      "99.08163265306122 at step: 2200\n"
     ]
    }
   ],
   "source": [
    "plt.plot(losses)\n",
    "plt.show()\n",
    "plt.plot(train_accs, label='train acc')\n",
    "plt.plot(test_accs, label='test acc')\n",
    "plt.legend()\n",
    "plt.show()\n",
    "print(max(test_accs), 'at step:', np.argmax(test_accs)*200)"
   ]
  },
  {
   "cell_type": "markdown",
   "metadata": {},
   "source": [
    "## Convex"
   ]
  },
  {
   "cell_type": "code",
   "execution_count": 37,
   "metadata": {},
   "outputs": [],
   "source": [
    "torch.manual_seed(369)\n",
    "cvxNet = ConvexNN([784,200,100,1], actf)\n",
    "optimizer = torch.optim.Adam(cvxNet.parameters(), lr=learning_rate)"
   ]
  },
  {
   "cell_type": "code",
   "execution_count": 38,
   "metadata": {},
   "outputs": [
    {
     "name": "stdout",
     "output_type": "stream",
     "text": [
      "Epoch: 0:200,  Loss:0.12804493308067322\n",
      "Train Acc:92.90%, Test Acc:99.08%\n",
      "\n",
      "\n",
      "Epoch: 1:400,  Loss:0.08297356963157654\n",
      "Train Acc:98.25%, Test Acc:99.13%\n",
      "\n",
      "\n",
      "Epoch: 2:600,  Loss:0.019687289372086525\n",
      "Train Acc:98.73%, Test Acc:98.93%\n",
      "\n",
      "\n"
     ]
    },
    {
     "ename": "KeyboardInterrupt",
     "evalue": "",
     "output_type": "error",
     "traceback": [
      "\u001b[0;31m---------------------------------------------------------------------------\u001b[0m",
      "\u001b[0;31mKeyboardInterrupt\u001b[0m                         Traceback (most recent call last)",
      "\u001b[0;32m<ipython-input-38-c03a5bff2f34>\u001b[0m in \u001b[0;36m<module>\u001b[0;34m()\u001b[0m\n\u001b[1;32m     16\u001b[0m         \u001b[0moptimizer\u001b[0m\u001b[0;34m.\u001b[0m\u001b[0mzero_grad\u001b[0m\u001b[0;34m(\u001b[0m\u001b[0;34m)\u001b[0m\u001b[0;34m\u001b[0m\u001b[0;34m\u001b[0m\u001b[0m\n\u001b[1;32m     17\u001b[0m         \u001b[0mloss\u001b[0m\u001b[0;34m.\u001b[0m\u001b[0mbackward\u001b[0m\u001b[0;34m(\u001b[0m\u001b[0;34m)\u001b[0m\u001b[0;34m\u001b[0m\u001b[0;34m\u001b[0m\u001b[0m\n\u001b[0;32m---> 18\u001b[0;31m         \u001b[0moptimizer\u001b[0m\u001b[0;34m.\u001b[0m\u001b[0mstep\u001b[0m\u001b[0;34m(\u001b[0m\u001b[0;34m)\u001b[0m\u001b[0;34m\u001b[0m\u001b[0;34m\u001b[0m\u001b[0m\n\u001b[0m\u001b[1;32m     19\u001b[0m \u001b[0;34m\u001b[0m\u001b[0m\n\u001b[1;32m     20\u001b[0m         \u001b[0moutputs\u001b[0m \u001b[0;34m=\u001b[0m \u001b[0;34m(\u001b[0m\u001b[0myout\u001b[0m\u001b[0;34m.\u001b[0m\u001b[0mdata\u001b[0m\u001b[0;34m.\u001b[0m\u001b[0mcpu\u001b[0m\u001b[0;34m(\u001b[0m\u001b[0;34m)\u001b[0m\u001b[0;34m.\u001b[0m\u001b[0mnumpy\u001b[0m\u001b[0;34m(\u001b[0m\u001b[0;34m)\u001b[0m \u001b[0;34m>\u001b[0m \u001b[0;36m0.5\u001b[0m\u001b[0;34m)\u001b[0m\u001b[0;34m.\u001b[0m\u001b[0mastype\u001b[0m\u001b[0;34m(\u001b[0m\u001b[0mfloat\u001b[0m\u001b[0;34m)\u001b[0m\u001b[0;34m\u001b[0m\u001b[0;34m\u001b[0m\u001b[0m\n",
      "\u001b[0;32m~/Program_Files/Python/miniconda3/lib/python3.7/site-packages/torch/autograd/grad_mode.py\u001b[0m in \u001b[0;36mdecorate_context\u001b[0;34m(*args, **kwargs)\u001b[0m\n\u001b[1;32m     24\u001b[0m         \u001b[0;32mdef\u001b[0m \u001b[0mdecorate_context\u001b[0m\u001b[0;34m(\u001b[0m\u001b[0;34m*\u001b[0m\u001b[0margs\u001b[0m\u001b[0;34m,\u001b[0m \u001b[0;34m**\u001b[0m\u001b[0mkwargs\u001b[0m\u001b[0;34m)\u001b[0m\u001b[0;34m:\u001b[0m\u001b[0;34m\u001b[0m\u001b[0;34m\u001b[0m\u001b[0m\n\u001b[1;32m     25\u001b[0m             \u001b[0;32mwith\u001b[0m \u001b[0mself\u001b[0m\u001b[0;34m.\u001b[0m\u001b[0m__class__\u001b[0m\u001b[0;34m(\u001b[0m\u001b[0;34m)\u001b[0m\u001b[0;34m:\u001b[0m\u001b[0;34m\u001b[0m\u001b[0;34m\u001b[0m\u001b[0m\n\u001b[0;32m---> 26\u001b[0;31m                 \u001b[0;32mreturn\u001b[0m \u001b[0mfunc\u001b[0m\u001b[0;34m(\u001b[0m\u001b[0;34m*\u001b[0m\u001b[0margs\u001b[0m\u001b[0;34m,\u001b[0m \u001b[0;34m**\u001b[0m\u001b[0mkwargs\u001b[0m\u001b[0;34m)\u001b[0m\u001b[0;34m\u001b[0m\u001b[0;34m\u001b[0m\u001b[0m\n\u001b[0m\u001b[1;32m     27\u001b[0m         \u001b[0;32mreturn\u001b[0m \u001b[0mcast\u001b[0m\u001b[0;34m(\u001b[0m\u001b[0mF\u001b[0m\u001b[0;34m,\u001b[0m \u001b[0mdecorate_context\u001b[0m\u001b[0;34m)\u001b[0m\u001b[0;34m\u001b[0m\u001b[0;34m\u001b[0m\u001b[0m\n\u001b[1;32m     28\u001b[0m \u001b[0;34m\u001b[0m\u001b[0m\n",
      "\u001b[0;32m~/Program_Files/Python/miniconda3/lib/python3.7/site-packages/torch/optim/adam.py\u001b[0m in \u001b[0;36mstep\u001b[0;34m(self, closure)\u001b[0m\n\u001b[1;32m    117\u001b[0m                    \u001b[0mgroup\u001b[0m\u001b[0;34m[\u001b[0m\u001b[0;34m'lr'\u001b[0m\u001b[0;34m]\u001b[0m\u001b[0;34m,\u001b[0m\u001b[0;34m\u001b[0m\u001b[0;34m\u001b[0m\u001b[0m\n\u001b[1;32m    118\u001b[0m                    \u001b[0mgroup\u001b[0m\u001b[0;34m[\u001b[0m\u001b[0;34m'weight_decay'\u001b[0m\u001b[0;34m]\u001b[0m\u001b[0;34m,\u001b[0m\u001b[0;34m\u001b[0m\u001b[0;34m\u001b[0m\u001b[0m\n\u001b[0;32m--> 119\u001b[0;31m                    \u001b[0mgroup\u001b[0m\u001b[0;34m[\u001b[0m\u001b[0;34m'eps'\u001b[0m\u001b[0;34m]\u001b[0m\u001b[0;34m\u001b[0m\u001b[0;34m\u001b[0m\u001b[0m\n\u001b[0m\u001b[1;32m    120\u001b[0m                    )\n\u001b[1;32m    121\u001b[0m         \u001b[0;32mreturn\u001b[0m \u001b[0mloss\u001b[0m\u001b[0;34m\u001b[0m\u001b[0;34m\u001b[0m\u001b[0m\n",
      "\u001b[0;32m~/Program_Files/Python/miniconda3/lib/python3.7/site-packages/torch/optim/functional.py\u001b[0m in \u001b[0;36madam\u001b[0;34m(params, grads, exp_avgs, exp_avg_sqs, max_exp_avg_sqs, state_steps, amsgrad, beta1, beta2, lr, weight_decay, eps)\u001b[0m\n\u001b[1;32m     92\u001b[0m             \u001b[0mdenom\u001b[0m \u001b[0;34m=\u001b[0m \u001b[0;34m(\u001b[0m\u001b[0mmax_exp_avg_sq\u001b[0m\u001b[0;34m.\u001b[0m\u001b[0msqrt\u001b[0m\u001b[0;34m(\u001b[0m\u001b[0;34m)\u001b[0m \u001b[0;34m/\u001b[0m \u001b[0mmath\u001b[0m\u001b[0;34m.\u001b[0m\u001b[0msqrt\u001b[0m\u001b[0;34m(\u001b[0m\u001b[0mbias_correction2\u001b[0m\u001b[0;34m)\u001b[0m\u001b[0;34m)\u001b[0m\u001b[0;34m.\u001b[0m\u001b[0madd_\u001b[0m\u001b[0;34m(\u001b[0m\u001b[0meps\u001b[0m\u001b[0;34m)\u001b[0m\u001b[0;34m\u001b[0m\u001b[0;34m\u001b[0m\u001b[0m\n\u001b[1;32m     93\u001b[0m         \u001b[0;32melse\u001b[0m\u001b[0;34m:\u001b[0m\u001b[0;34m\u001b[0m\u001b[0;34m\u001b[0m\u001b[0m\n\u001b[0;32m---> 94\u001b[0;31m             \u001b[0mdenom\u001b[0m \u001b[0;34m=\u001b[0m \u001b[0;34m(\u001b[0m\u001b[0mexp_avg_sq\u001b[0m\u001b[0;34m.\u001b[0m\u001b[0msqrt\u001b[0m\u001b[0;34m(\u001b[0m\u001b[0;34m)\u001b[0m \u001b[0;34m/\u001b[0m \u001b[0mmath\u001b[0m\u001b[0;34m.\u001b[0m\u001b[0msqrt\u001b[0m\u001b[0;34m(\u001b[0m\u001b[0mbias_correction2\u001b[0m\u001b[0;34m)\u001b[0m\u001b[0;34m)\u001b[0m\u001b[0;34m.\u001b[0m\u001b[0madd_\u001b[0m\u001b[0;34m(\u001b[0m\u001b[0meps\u001b[0m\u001b[0;34m)\u001b[0m\u001b[0;34m\u001b[0m\u001b[0;34m\u001b[0m\u001b[0m\n\u001b[0m\u001b[1;32m     95\u001b[0m \u001b[0;34m\u001b[0m\u001b[0m\n\u001b[1;32m     96\u001b[0m         \u001b[0mstep_size\u001b[0m \u001b[0;34m=\u001b[0m \u001b[0mlr\u001b[0m \u001b[0;34m/\u001b[0m \u001b[0mbias_correction1\u001b[0m\u001b[0;34m\u001b[0m\u001b[0;34m\u001b[0m\u001b[0m\n",
      "\u001b[0;31mKeyboardInterrupt\u001b[0m: "
     ]
    }
   ],
   "source": [
    "losses = []\n",
    "train_accs = []\n",
    "test_accs = []\n",
    "\n",
    "index = 0\n",
    "for epoch in range(20):\n",
    "    train_acc = 0\n",
    "    train_count = 0\n",
    "    for xx, yy in train_loader:\n",
    "        index += 1\n",
    "\n",
    "        yout = sigmoid(cvxNet(xx))    \n",
    "        loss = criterion(yout, yy)\n",
    "        losses.append(float(loss))\n",
    "\n",
    "        optimizer.zero_grad()\n",
    "        loss.backward()\n",
    "        optimizer.step()\n",
    "        \n",
    "        outputs = (yout.data.cpu().numpy() > 0.5).astype(float)\n",
    "        correct = (outputs == yy.data.cpu().numpy()).astype(float).sum()\n",
    "        train_acc += correct\n",
    "        train_count += len(outputs)\n",
    "\n",
    "        if index%200 == 0:\n",
    "            train_accs.append(float(train_acc)/train_count*100)\n",
    "            train_acc = 0\n",
    "            train_count = 0\n",
    "\n",
    "            print(f'Epoch: {epoch}:{index},  Loss:{float(loss)}')\n",
    "            test_count = 0\n",
    "            test_acc = 0\n",
    "            for xx, yy in test_loader:\n",
    "                with torch.no_grad():\n",
    "                    yout = cvxNet(xx)\n",
    "                outputs = (yout.data.cpu().numpy() > 0).astype(float)\n",
    "                correct = (outputs == yy.data.cpu().numpy()).astype(float).sum()\n",
    "                test_acc += correct\n",
    "                test_count += len(xx)\n",
    "            test_accs.append(float(test_acc)/test_count*100)\n",
    "            print(f'Train Acc:{train_accs[-1]:.2f}%, Test Acc:{test_accs[-1]:.2f}%')\n",
    "            print(\"\\n\")"
   ]
  },
  {
   "cell_type": "code",
   "execution_count": 23,
   "metadata": {},
   "outputs": [
    {
     "data": {
      "image/png": "[encoded data removed]",
      "text/plain": [
       "<Figure size 432x288 with 1 Axes>"
      ]
     },
     "metadata": {
      "needs_background": "light"
     },
     "output_type": "display_data"
    },
    {
     "data": {
      "image/png": "[encoded data removed]",
      "text/plain": [
       "<Figure size 432x288 with 1 Axes>"
      ]
     },
     "metadata": {
      "needs_background": "light"
     },
     "output_type": "display_data"
    },
    {
     "name": "stdout",
     "output_type": "stream",
     "text": [
      "99.43877551020408 at step: 4200\n"
     ]
    }
   ],
   "source": [
    "plt.plot(losses)\n",
    "plt.show()\n",
    "plt.plot(train_accs, label='train acc')\n",
    "plt.plot(test_accs, label='test acc')\n",
    "plt.legend()\n",
    "plt.show()\n",
    "print(max(test_accs), 'at step:', np.argmax(test_accs)*200)"
   ]
  },
  {
   "cell_type": "markdown",
   "metadata": {},
   "source": [
    "## NN"
   ]
  },
  {
   "cell_type": "code",
   "execution_count": 24,
   "metadata": {},
   "outputs": [],
   "source": [
    "torch.manual_seed(369)\n",
    "mlpNet = nn.Sequential(nn.Linear(784, 200),\n",
    "                       actf(),\n",
    "                       nn.Linear(200,100),\n",
    "                       actf(),\n",
    "                       nn.Linear(100,1))\n",
    "optimizer = torch.optim.Adam(mlpNet.parameters(), lr=learning_rate)"
   ]
  },
  {
   "cell_type": "code",
   "execution_count": 25,
   "metadata": {},
   "outputs": [
    {
     "name": "stdout",
     "output_type": "stream",
     "text": [
      "Epoch: 0:200,  Loss:0.00772550143301487\n",
      "Train Acc:97.20%, Test Acc:98.93%\n",
      "\n",
      "\n",
      "Epoch: 1:400,  Loss:0.0008176472038030624\n",
      "Train Acc:98.91%, Test Acc:99.44%\n",
      "\n",
      "\n",
      "Epoch: 2:600,  Loss:0.00018880375137086958\n",
      "Train Acc:99.40%, Test Acc:99.29%\n",
      "\n",
      "\n",
      "Epoch: 3:800,  Loss:0.0007474260055460036\n",
      "Train Acc:99.48%, Test Acc:98.93%\n",
      "\n",
      "\n",
      "Epoch: 4:1000,  Loss:0.0005391020094975829\n",
      "Train Acc:99.81%, Test Acc:99.44%\n",
      "\n",
      "\n",
      "Epoch: 5:1200,  Loss:5.919463001191616e-05\n",
      "Train Acc:99.73%, Test Acc:99.13%\n",
      "\n",
      "\n",
      "Epoch: 5:1400,  Loss:0.0006220584618858993\n",
      "Train Acc:99.62%, Test Acc:99.34%\n",
      "\n",
      "\n",
      "Epoch: 6:1600,  Loss:0.0016614423366263509\n",
      "Train Acc:99.78%, Test Acc:99.44%\n",
      "\n",
      "\n",
      "Epoch: 7:1800,  Loss:1.8434093362884596e-05\n",
      "Train Acc:99.77%, Test Acc:99.39%\n",
      "\n",
      "\n",
      "Epoch: 8:2000,  Loss:0.000271571334451437\n",
      "Train Acc:99.75%, Test Acc:99.03%\n",
      "\n",
      "\n",
      "Epoch: 9:2200,  Loss:0.00022052139684092253\n",
      "Train Acc:100.00%, Test Acc:99.34%\n",
      "\n",
      "\n",
      "Epoch: 10:2400,  Loss:0.0001376785949105397\n",
      "Train Acc:99.87%, Test Acc:99.34%\n",
      "\n",
      "\n",
      "Epoch: 10:2600,  Loss:0.025564787909388542\n",
      "Train Acc:99.71%, Test Acc:98.88%\n",
      "\n",
      "\n",
      "Epoch: 11:2800,  Loss:0.1294795721769333\n",
      "Train Acc:99.81%, Test Acc:99.44%\n",
      "\n",
      "\n",
      "Epoch: 12:3000,  Loss:2.0322846467024647e-05\n",
      "Train Acc:99.76%, Test Acc:99.23%\n",
      "\n",
      "\n",
      "Epoch: 13:3200,  Loss:0.00032465794356539845\n",
      "Train Acc:99.97%, Test Acc:99.34%\n",
      "\n",
      "\n",
      "Epoch: 14:3400,  Loss:0.0002505035372450948\n",
      "Train Acc:99.73%, Test Acc:99.23%\n",
      "\n",
      "\n",
      "Epoch: 15:3600,  Loss:0.0005015165079385042\n",
      "Train Acc:99.91%, Test Acc:99.34%\n",
      "\n",
      "\n",
      "Epoch: 16:3800,  Loss:1.0338588253944181e-05\n",
      "Train Acc:100.00%, Test Acc:99.44%\n",
      "\n",
      "\n",
      "Epoch: 16:4000,  Loss:0.005089180544018745\n",
      "Train Acc:99.95%, Test Acc:99.18%\n",
      "\n",
      "\n",
      "Epoch: 17:4200,  Loss:0.0\n",
      "Train Acc:99.93%, Test Acc:99.44%\n",
      "\n",
      "\n",
      "Epoch: 18:4400,  Loss:0.013385077938437462\n",
      "Train Acc:99.96%, Test Acc:99.29%\n",
      "\n",
      "\n",
      "Epoch: 19:4600,  Loss:7.065004410833353e-06\n",
      "Train Acc:99.94%, Test Acc:99.39%\n",
      "\n",
      "\n"
     ]
    }
   ],
   "source": [
    "losses = []\n",
    "train_accs = []\n",
    "test_accs = []\n",
    "\n",
    "index = 0\n",
    "for epoch in range(20):\n",
    "    train_acc = 0\n",
    "    train_count = 0\n",
    "    for xx, yy in train_loader:\n",
    "        index += 1\n",
    "\n",
    "        yout = sigmoid(mlpNet(xx))    \n",
    "        loss = criterion(yout, yy)\n",
    "        losses.append(float(loss))\n",
    "\n",
    "        optimizer.zero_grad()\n",
    "        loss.backward()\n",
    "        optimizer.step()\n",
    "        \n",
    "        outputs = (yout.data.cpu().numpy() > 0.5).astype(float)\n",
    "        correct = (outputs == yy.data.cpu().numpy()).astype(float).sum()\n",
    "        train_acc += correct\n",
    "        train_count += len(outputs)\n",
    "\n",
    "        if index%200 == 0:\n",
    "            train_accs.append(float(train_acc)/train_count*100)\n",
    "            train_acc = 0\n",
    "            train_count = 0\n",
    "\n",
    "            print(f'Epoch: {epoch}:{index},  Loss:{float(loss)}')\n",
    "            test_count = 0\n",
    "            test_acc = 0\n",
    "            for xx, yy in test_loader:\n",
    "                with torch.no_grad():\n",
    "                    yout = mlpNet(xx)\n",
    "                outputs = (yout.data.cpu().numpy() > 0).astype(float)\n",
    "                correct = (outputs == yy.data.cpu().numpy()).astype(float).sum()\n",
    "                test_acc += correct\n",
    "                test_count += len(xx)\n",
    "            test_accs.append(float(test_acc)/test_count*100)\n",
    "            print(f'Train Acc:{train_accs[-1]:.2f}%, Test Acc:{test_accs[-1]:.2f}%')\n",
    "            print(\"\\n\")"
   ]
  },
  {
   "cell_type": "code",
   "execution_count": 26,
   "metadata": {},
   "outputs": [
    {
     "data": {
      "image/png": "[encoded data removed]",
      "text/plain": [
       "<Figure size 432x288 with 1 Axes>"
      ]
     },
     "metadata": {
      "needs_background": "light"
     },
     "output_type": "display_data"
    },
    {
     "data": {
      "image/png": "[encoded data removed]",
      "text/plain": [
       "<Figure size 432x288 with 1 Axes>"
      ]
     },
     "metadata": {
      "needs_background": "light"
     },
     "output_type": "display_data"
    },
    {
     "name": "stdout",
     "output_type": "stream",
     "text": [
      "99.43877551020408 at step: 200\n"
     ]
    }
   ],
   "source": [
    "plt.plot(losses)\n",
    "plt.show()\n",
    "plt.plot(train_accs, label='train acc')\n",
    "plt.plot(test_accs, label='test acc')\n",
    "plt.legend()\n",
    "plt.show()\n",
    "print(max(test_accs), 'at step:', np.argmax(test_accs)*200)"
   ]
  },
  {
   "cell_type": "markdown",
   "metadata": {},
   "source": [
    "# QuasiConvex"
   ]
  },
  {
   "cell_type": "code",
   "execution_count": 32,
   "metadata": {},
   "outputs": [],
   "source": [
    "torch.manual_seed(369)\n",
    "lips_net = nn.Sequential(nn.Linear(784, 200),\n",
    "                       actf(),\n",
    "                       nn.Linear(200,100),\n",
    "                       actf(),\n",
    "                       nn.Linear(100,1))\n",
    "lcNet = BasicInvexNet(784, lips_net, lamda=lambda_)\n",
    "optimizer = torch.optim.Adam(lcNet.parameters(), lr=learning_rate)"
   ]
  },
  {
   "cell_type": "code",
   "execution_count": 33,
   "metadata": {},
   "outputs": [
    {
     "name": "stdout",
     "output_type": "stream",
     "text": [
      "Epoch: 0:200,  Loss:0.00966580118983984, MinVal:1.6776198148727417, gp: 4.911155212424755e-31\n",
      "Train Acc:95.15%, Test Acc:98.67%\n",
      "\n",
      "\n",
      "Epoch: 1:400,  Loss:0.0007149972952902317, MinVal:1.601951003074646, gp: 1.0420810458344688e-29\n",
      "Train Acc:98.92%, Test Acc:99.29%\n",
      "\n",
      "\n",
      "Epoch: 2:600,  Loss:9.932788816513494e-05, MinVal:0.3326866626739502, gp: 1.1235900387873698e-07\n",
      "Train Acc:99.17%, Test Acc:99.08%\n",
      "\n",
      "\n",
      "Epoch: 3:800,  Loss:0.0015857876278460026, MinVal:6.8420515060424805, gp: 0.0\n",
      "Train Acc:99.39%, Test Acc:99.29%\n",
      "\n",
      "\n",
      "Epoch: 4:1000,  Loss:0.015332337468862534, MinVal:4.298842906951904, gp: 0.0\n",
      "Train Acc:99.46%, Test Acc:99.23%\n",
      "\n",
      "\n",
      "Epoch: 5:1200,  Loss:0.00017315727018285543, MinVal:1.6076335906982422, gp: 8.065513240765931e-30\n",
      "Train Acc:99.87%, Test Acc:99.18%\n",
      "\n",
      "\n",
      "Epoch: 5:1400,  Loss:0.0005992838996462524, MinVal:1.9391298294067383, gp: 1.405893969949748e-35\n",
      "Train Acc:99.78%, Test Acc:99.34%\n",
      "\n",
      "\n",
      "Epoch: 6:1600,  Loss:0.0017741912743076682, MinVal:4.970850467681885, gp: 0.0\n",
      "Train Acc:99.74%, Test Acc:99.18%\n",
      "\n",
      "\n",
      "Epoch: 7:1800,  Loss:5.458795840240782e-06, MinVal:5.270421981811523, gp: 0.0\n",
      "Train Acc:99.77%, Test Acc:99.34%\n",
      "\n",
      "\n",
      "Epoch: 8:2000,  Loss:0.0003894189721904695, MinVal:3.1462786197662354, gp: 0.0\n",
      "Train Acc:99.71%, Test Acc:99.13%\n",
      "\n",
      "\n",
      "Epoch: 9:2200,  Loss:0.002203920390456915, MinVal:7.957077980041504, gp: 0.0\n",
      "Train Acc:99.97%, Test Acc:99.34%\n",
      "\n",
      "\n",
      "Epoch: 10:2400,  Loss:0.00040813282248564065, MinVal:6.363663196563721, gp: 0.0\n",
      "Train Acc:99.93%, Test Acc:99.49%\n",
      "\n",
      "\n",
      "Epoch: 10:2600,  Loss:0.014333311468362808, MinVal:2.2394967079162598, gp: 8.512327651387534e-41\n",
      "Train Acc:99.65%, Test Acc:99.08%\n",
      "\n",
      "\n",
      "Epoch: 11:2800,  Loss:0.09051144868135452, MinVal:5.967987537384033, gp: 0.0\n",
      "Train Acc:99.91%, Test Acc:99.03%\n",
      "\n",
      "\n",
      "Epoch: 12:3000,  Loss:1.7219410437974147e-05, MinVal:6.137363910675049, gp: 0.0\n",
      "Train Acc:99.91%, Test Acc:99.44%\n",
      "\n",
      "\n",
      "Epoch: 13:3200,  Loss:6.027230847394094e-05, MinVal:0.5437058210372925, gp: 2.4484388475021213e-11\n",
      "Train Acc:99.76%, Test Acc:99.18%\n",
      "\n",
      "\n",
      "Epoch: 14:3400,  Loss:0.00020656590641010553, MinVal:5.058281421661377, gp: 0.0\n",
      "Train Acc:100.00%, Test Acc:99.23%\n",
      "\n",
      "\n",
      "Epoch: 15:3600,  Loss:9.5846303338476e-07, MinVal:9.316756248474121, gp: 0.0\n",
      "Train Acc:100.00%, Test Acc:99.34%\n",
      "\n",
      "\n",
      "Epoch: 16:3800,  Loss:2.861031589418417e-07, MinVal:6.425812244415283, gp: 0.0\n",
      "Train Acc:100.00%, Test Acc:99.39%\n",
      "\n",
      "\n",
      "Epoch: 16:4000,  Loss:1.9467343008727767e-06, MinVal:8.957341194152832, gp: 0.0\n",
      "Train Acc:100.00%, Test Acc:99.39%\n",
      "\n",
      "\n",
      "Epoch: 17:4200,  Loss:8.225458003607855e-08, MinVal:10.385017395019531, gp: 0.0\n",
      "Train Acc:100.00%, Test Acc:99.39%\n",
      "\n",
      "\n",
      "Epoch: 18:4400,  Loss:5.4003634431865066e-05, MinVal:11.98138427734375, gp: 0.0\n",
      "Train Acc:100.00%, Test Acc:99.39%\n",
      "\n",
      "\n",
      "Epoch: 19:4600,  Loss:5.090279842079326e-07, MinVal:11.441760063171387, gp: 0.0\n",
      "Train Acc:100.00%, Test Acc:99.39%\n",
      "\n",
      "\n"
     ]
    }
   ],
   "source": [
    "losses = []\n",
    "train_accs = []\n",
    "test_accs = []\n",
    "\n",
    "index = 0\n",
    "for epoch in range(20):\n",
    "    train_acc = 0\n",
    "    train_count = 0\n",
    "    for xx, yy in train_loader:\n",
    "        index += 1\n",
    "\n",
    "        yout = sigmoid(lcNet(xx)) \n",
    "        lcNet.compute_penalty_and_clipper()\n",
    "        loss = criterion(yout, yy) + lcNet.gp\n",
    "        losses.append(float(loss))\n",
    "\n",
    "        optimizer.zero_grad()\n",
    "        loss.backward()\n",
    "        optimizer.step()\n",
    "        \n",
    "        outputs = (yout.data.cpu().numpy() > 0.5).astype(float)\n",
    "        correct = (outputs == yy.data.cpu().numpy()).astype(float).sum()\n",
    "        train_acc += correct\n",
    "        train_count += len(outputs)\n",
    "\n",
    "        if index%200 == 0:\n",
    "            train_accs.append(float(train_acc)/train_count*100)\n",
    "            train_acc = 0\n",
    "            train_count = 0\n",
    "            \n",
    "            min_val, gp = float(lcNet.cond.min()) , float(lcNet.gp)\n",
    "            print(f'Epoch: {epoch}:{index},  Loss:{float(loss)}, MinVal:{min_val}, gp: {gp}')\n",
    "            test_count = 0\n",
    "            test_acc = 0\n",
    "            for xx, yy in test_loader:\n",
    "#                 with torch.no_grad():\n",
    "                yout = lcNet(xx)\n",
    "                outputs = (yout.data.cpu().numpy() > 0).astype(float)\n",
    "                correct = (outputs == yy.data.cpu().numpy()).astype(float).sum()\n",
    "                test_acc += correct\n",
    "                test_count += len(xx)\n",
    "            test_accs.append(float(test_acc)/test_count*100)\n",
    "            print(f'Train Acc:{train_accs[-1]:.2f}%, Test Acc:{test_accs[-1]:.2f}%')\n",
    "            print(\"\\n\")"
   ]
  },
  {
   "cell_type": "code",
   "execution_count": 34,
   "metadata": {},
   "outputs": [
    {
     "data": {
      "image/png": "[encoded data removed]",
      "text/plain": [
       "<Figure size 432x288 with 1 Axes>"
      ]
     },
     "metadata": {
      "needs_background": "light"
     },
     "output_type": "display_data"
    },
    {
     "data": {
      "image/png": "[encoded data removed]",
      "text/plain": [
       "<Figure size 432x288 with 1 Axes>"
      ]
     },
     "metadata": {
      "needs_background": "light"
     },
     "output_type": "display_data"
    },
    {
     "name": "stdout",
     "output_type": "stream",
     "text": [
      "99.48979591836735 at step: 2200\n"
     ]
    }
   ],
   "source": [
    "plt.plot(losses)\n",
    "plt.show()\n",
    "plt.plot(train_accs, label='train acc')\n",
    "plt.plot(test_accs, label='test acc')\n",
    "plt.legend()\n",
    "plt.show()\n",
    "print(max(test_accs), 'at step:', np.argmax(test_accs)*200)"
   ]
  },
  {
   "cell_type": "code",
   "execution_count": 35,
   "metadata": {},
   "outputs": [
    {
     "data": {
      "text/plain": [
       "<matplotlib.image.AxesImage at 0x7f4c695c08d0>"
      ]
     },
     "execution_count": 35,
     "metadata": {},
     "output_type": "execute_result"
    },
    {
     "data": {
      "image/png": "[encoded data removed]",
      "text/plain": [
       "<Figure size 432x288 with 1 Axes>"
      ]
     },
     "metadata": {
      "needs_background": "light"
     },
     "output_type": "display_data"
    }
   ],
   "source": [
    "plt.imshow(lcNet.center.data.numpy().reshape(28,28))"
   ]
  },
  {
   "cell_type": "code",
   "execution_count": null,
   "metadata": {},
   "outputs": [],
   "source": []
  }
 ],
 "metadata": {
  "kernelspec": {
   "display_name": "Python 3",
   "language": "python",
   "name": "python3"
  },
  "language_info": {
   "codemirror_mode": {
    "name": "ipython",
    "version": 3
   },
   "file_extension": ".py",
   "mimetype": "text/x-python",
   "name": "python",
   "nbconvert_exporter": "python",
   "pygments_lexer": "ipython3",
   "version": "3.7.4"
  }
 },
 "nbformat": 4,
 "nbformat_minor": 4
}
